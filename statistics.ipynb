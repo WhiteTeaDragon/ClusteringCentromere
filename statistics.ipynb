{
 "cells": [
  {
   "cell_type": "code",
   "execution_count": 251,
   "metadata": {},
   "outputs": [],
   "source": [
    "import edlib\n",
    "import numpy as np\n",
    "from Bio import SeqIO\n",
    "from Bio.SeqRecord import SeqRecord"
   ]
  },
  {
   "cell_type": "code",
   "execution_count": 279,
   "metadata": {},
   "outputs": [],
   "source": [
    "def radius(consensus_strings, X, labels):\n",
    "    radii = []\n",
    "    for label in np.unique(labels):\n",
    "        one_cluster_points = [X[i] for i in range(len(X)) if labels[i] == label]\n",
    "        consensus = consensus_strings[label]\n",
    "        distances = [edlib.align(one_cluster_points[i], consensus, mode='HW', task='path')['editDistance'] for i in range(len(one_cluster_points))]\n",
    "        radii.append(np.max(distances))\n",
    "    return radii"
   ]
  },
  {
   "cell_type": "code",
   "execution_count": 280,
   "metadata": {},
   "outputs": [],
   "source": [
    "#############\n",
    "def mean_square(consensus_strings, X, labels):\n",
    "    results = []\n",
    "    for label in np.unique(labels):\n",
    "        one_cluster_points = [X[i] for i in range(len(X)) if labels[i] == label]\n",
    "        consensus = consensus_strings[label]\n",
    "        distances = np.array([edlib.align(one_cluster_points[i], consensus, mode='HW', task='path')['editDistance'] for i in range(len(one_cluster_points))])\n",
    "        results.append(np.round(np.sqrt((distances**2).mean()), 2))\n",
    "    return results"
   ]
  },
  {
   "cell_type": "code",
   "execution_count": 254,
   "metadata": {},
   "outputs": [],
   "source": [
    "def min_dist_between_clusters(X, labels):\n",
    "    result = 0\n",
    "    distances = []\n",
    "    one_cluster_points = [[X[i] for i in range(len(X)) if labels[i] == label] for label in np.unique(labels)]\n",
    "    for i in range(len(one_cluster_points)):\n",
    "        for j in range(i + 1, len(one_cluster_points)):\n",
    "            distances.append(np.min([edlib.align(one_cluster_points[i][k], one_cluster_points[j][l], mode='HW', task='path')['editDistance'] for k in range(len(one_cluster_points[i])) for l in range(len(one_cluster_points[j]))]))\n",
    "    distances = np.array(distances)\n",
    "    result = np.min(distances[np.nonzero(distances)])\n",
    "    return result"
   ]
  },
  {
   "cell_type": "code",
   "execution_count": 255,
   "metadata": {},
   "outputs": [],
   "source": [
    "###########\n",
    "def centromere_cluster_distribution(X, labels, chromosomes):\n",
    "    chromosomes = np.array(chromosomes)\n",
    "    chromo_distribution = []\n",
    "    for label in np.unique(labels):\n",
    "        one_cluster_points_indices = [i for i in range(len(X)) if labels[i] == label]\n",
    "        one_cluster_chromo = chromosomes[one_cluster_points_indices]\n",
    "        cluster_chromo_distr = {}\n",
    "        for chromo in np.unique(chromosomes):\n",
    "            cluster_chromo_distr[chromo] = len([one_cluster_chromo[i] for i in range(len(one_cluster_chromo)) if one_cluster_chromo[i] == chromo])\n",
    "        chromo_distribution.append(cluster_chromo_distr)\n",
    "    return chromo_distribution"
   ]
  },
  {
   "cell_type": "code",
   "execution_count": 256,
   "metadata": {},
   "outputs": [],
   "source": [
    "def consensus_distance(consensus_strings):\n",
    "    distances = []\n",
    "    for i in range(len(consensus_strings)):\n",
    "        for j in range(i + 1, len(consensus_strings)):\n",
    "            distances.append(edlib.align(consensus_strings[i], consensus_strings[j], mode='HW', task='path')['editDistance'])\n",
    "    return distances"
   ]
  },
  {
   "cell_type": "code",
   "execution_count": 257,
   "metadata": {},
   "outputs": [],
   "source": [
    "#################\n",
    "def min_consensus_distance(consensus_strings):\n",
    "    min_distances = []\n",
    "    distances = []\n",
    "    for i in range(len(consensus_strings)):\n",
    "        for j in range(i + 1, len(consensus_strings)):\n",
    "            distances.append(edlib.align(consensus_strings[i], consensus_strings[j], mode='HW', task='path')['editDistance'])\n",
    "        min_distances.append(np.min(distances[(i + 1):]))\n",
    "    return min_distances"
   ]
  },
  {
   "cell_type": "code",
   "execution_count": 258,
   "metadata": {},
   "outputs": [],
   "source": [
    "###############\n",
    "def edge_density(X, labels):\n",
    "    density = []\n",
    "    dist_matrix = np.zeros((len(X), len(X)), dtype='int')\n",
    "    for i in range(len(X)):\n",
    "        for j in range(i, len(X)):\n",
    "            dist_matrix[i, j] = edlib.align(X[i], X[j], mode='HW', task='path')['editDistance']\n",
    "    dist_matrix = dist_matrix + dist_matrix.T\n",
    "    edges = np.zeros((len(X), len(X)), dtype='float')\n",
    "    for i in range(len(X)):\n",
    "            for j in range(i, len(X)):\n",
    "                if 0 < dist_matrix[i, j] < 10:\n",
    "                    edges[i, j] = dist_matrix[i, j]\n",
    "    for label in np.unique(labels):\n",
    "        one_cluster_points_indices = np.array([i for i in range(len(X)) if labels[i] == label])\n",
    "        one_cluster_edges = edges[np.ix_(one_cluster_points_indices, one_cluster_points_indices)]\n",
    "        count = len(one_cluster_edges[np.nonzero(one_cluster_edges)])\n",
    "        max_edges = (len(one_cluster_points_indices) * (len(one_cluster_points_indices) - 1)) / 2\n",
    "        density.append(np.round(count / max_edges, 2))\n",
    "    return density"
   ]
  },
  {
   "cell_type": "markdown",
   "metadata": {},
   "source": [
    "### DBSCAN5 1000"
   ]
  },
  {
   "cell_type": "code",
   "execution_count": 259,
   "metadata": {},
   "outputs": [
    {
     "name": "stdout",
     "output_type": "stream",
     "text": [
      "[-1  0  1  2  3  4  5  6  7  8  9 10 11 12 13 14 15 16]\n"
     ]
    }
   ],
   "source": [
    "f_in = open('/Users/olga/Downloads/dbscan5_labels_seq1000_1.txt', 'r')\n",
    "labels = []\n",
    "sequences = []\n",
    "chromosomes = []\n",
    "for line in f_in:\n",
    "    labels.append(int(line.strip().split()[-1]))\n",
    "for record in SeqIO.parse('/Users/olga/Downloads/seq1000_1.fa', 'fasta'):\n",
    "    sequences.append(str(record.seq))\n",
    "    chromosomes.append(int(record.id.split('_')[1][3:]))\n",
    "f_in.close()\n",
    "f = open('/Users/olga/Downloads/dbscan5_consensuses_seq1000_1.txt', 'r')\n",
    "consensus_strings = []\n",
    "c = 0\n",
    "for line in f:\n",
    "    c += 1\n",
    "    if c % 2 == 0:\n",
    "        consensus_strings.append(line.strip())\n",
    "f.close()\n",
    "print(np.unique(labels))"
   ]
  },
  {
   "cell_type": "code",
   "execution_count": 260,
   "metadata": {},
   "outputs": [
    {
     "name": "stdout",
     "output_type": "stream",
     "text": [
      "[67.84, 1.65, 1.99, 7.99, 6.51, 2.43, 1.94, 5.01, 5.38, 5.84, 2.28, 2.34, 10.27, 4.06, 1.2, 1.1, 1.83, 2.37]\n"
     ]
    }
   ],
   "source": [
    "ms = mean_square(consensus_strings, sequences, labels)\n",
    "print(ms)"
   ]
  },
  {
   "cell_type": "code",
   "execution_count": 261,
   "metadata": {},
   "outputs": [
    {
     "data": {
      "text/plain": [
       "[{1: 8, 5: 4, 19: 24},\n",
       " {1: 0, 5: 37, 19: 0},\n",
       " {1: 0, 5: 23, 19: 0},\n",
       " {1: 90, 5: 62, 19: 177},\n",
       " {1: 88, 5: 29, 19: 159},\n",
       " {1: 9, 5: 0, 19: 0},\n",
       " {1: 9, 5: 0, 19: 0},\n",
       " {1: 15, 5: 18, 19: 2},\n",
       " {1: 18, 5: 14, 19: 4},\n",
       " {1: 55, 5: 0, 19: 0},\n",
       " {1: 0, 5: 0, 19: 5},\n",
       " {1: 15, 5: 0, 19: 2},\n",
       " {1: 47, 5: 0, 19: 0},\n",
       " {1: 14, 5: 33, 19: 3},\n",
       " {1: 9, 5: 0, 19: 0},\n",
       " {1: 10, 5: 0, 19: 0},\n",
       " {1: 0, 5: 0, 19: 9},\n",
       " {1: 8, 5: 0, 19: 0}]"
      ]
     },
     "execution_count": 261,
     "metadata": {},
     "output_type": "execute_result"
    }
   ],
   "source": [
    "centromere_cluster_distribution(sequences, labels, chromosomes)"
   ]
  },
  {
   "cell_type": "code",
   "execution_count": 262,
   "metadata": {},
   "outputs": [
    {
     "data": {
      "text/plain": [
       "[61, 11, 11, 11, 9, 9, 9, 9, 9, 9, 6, 6, 6, 6, 6, 6, 6, 6]"
      ]
     },
     "execution_count": 262,
     "metadata": {},
     "output_type": "execute_result"
    }
   ],
   "source": [
    "min_consensus_distance(consensus_strings)"
   ]
  },
  {
   "cell_type": "code",
   "execution_count": 263,
   "metadata": {},
   "outputs": [
    {
     "data": {
      "text/plain": [
       "[0.03,\n",
       " 0.8,\n",
       " 0.73,\n",
       " 0.8,\n",
       " 0.76,\n",
       " 0.92,\n",
       " 0.92,\n",
       " 0.89,\n",
       " 0.91,\n",
       " 0.87,\n",
       " 1.0,\n",
       " 0.91,\n",
       " 0.69,\n",
       " 0.93,\n",
       " 0.69,\n",
       " 0.53,\n",
       " 0.89,\n",
       " 0.89]"
      ]
     },
     "execution_count": 263,
     "metadata": {},
     "output_type": "execute_result"
    }
   ],
   "source": [
    "edge_density(sequences, labels)"
   ]
  },
  {
   "cell_type": "markdown",
   "metadata": {},
   "source": [
    "### DBSCAN5 2000_1"
   ]
  },
  {
   "cell_type": "code",
   "execution_count": 264,
   "metadata": {},
   "outputs": [
    {
     "name": "stdout",
     "output_type": "stream",
     "text": [
      "[-1  0  1  2  3  4  5  6  7  8  9 10 11 12 13 14]\n"
     ]
    }
   ],
   "source": [
    "f_in = open('/Users/olga/Downloads/dbscan5_labels_seq2000_1.txt', 'r')\n",
    "labels = []\n",
    "sequences = []\n",
    "chromosomes = []\n",
    "for line in f_in:\n",
    "    labels.append(int(line.strip().split()[-1]))\n",
    "for record in SeqIO.parse('/Users/olga/Downloads/seq2000_1.fa', 'fasta'):\n",
    "    sequences.append(str(record.seq))\n",
    "    chromosomes.append(int(record.id.split('_')[1][3:]))\n",
    "f_in.close()\n",
    "f = open('/Users/olga/Downloads/dbscan5_consensuses_seq2000_1.txt', 'r')\n",
    "consensus_strings = []\n",
    "count = 0\n",
    "for line in f:\n",
    "    count += 1\n",
    "    if count % 2 == 0:\n",
    "        consensus_strings.append(line.strip())\n",
    "f.close()\n",
    "print(np.unique(labels))"
   ]
  },
  {
   "cell_type": "code",
   "execution_count": 265,
   "metadata": {},
   "outputs": [
    {
     "name": "stdout",
     "output_type": "stream",
     "text": [
      "[77.07, 7.62, 8.96, 2.76, 5.86, 7.06, 16.48, 1.7, 2.39, 5.96, 3.86, 1.6, 2.82, 1.35, 2.0, 1.54]\n"
     ]
    }
   ],
   "source": [
    "ms = mean_square(consensus_strings, sequences, labels)\n",
    "print(ms)"
   ]
  },
  {
   "cell_type": "code",
   "execution_count": 266,
   "metadata": {},
   "outputs": [
    {
     "data": {
      "text/plain": [
       "[{1: 11, 5: 2, 19: 33},\n",
       " {1: 158, 5: 61, 19: 320},\n",
       " {1: 176, 5: 104, 19: 342},\n",
       " {1: 2, 5: 54, 19: 0},\n",
       " {1: 105, 5: 0, 19: 0},\n",
       " {1: 41, 5: 99, 19: 7},\n",
       " {1: 95, 5: 0, 19: 0},\n",
       " {1: 0, 5: 89, 19: 0},\n",
       " {1: 26, 5: 0, 19: 0},\n",
       " {1: 43, 5: 28, 19: 7},\n",
       " {1: 31, 5: 28, 19: 1},\n",
       " {1: 31, 5: 0, 19: 0},\n",
       " {1: 27, 5: 0, 19: 0},\n",
       " {1: 24, 5: 0, 19: 0},\n",
       " {1: 34, 5: 0, 19: 0},\n",
       " {1: 21, 5: 0, 19: 0}]"
      ]
     },
     "execution_count": 266,
     "metadata": {},
     "output_type": "execute_result"
    }
   ],
   "source": [
    "centromere_cluster_distribution(sequences, labels, chromosomes)"
   ]
  },
  {
   "cell_type": "code",
   "execution_count": 267,
   "metadata": {},
   "outputs": [
    {
     "data": {
      "text/plain": [
       "[77, 13, 13, 13, 13, 13, 13, 11, 11, 11, 11, 11, 11, 11, 11, 11]"
      ]
     },
     "execution_count": 267,
     "metadata": {},
     "output_type": "execute_result"
    }
   ],
   "source": [
    "min_consensus_distance(consensus_strings)"
   ]
  },
  {
   "cell_type": "code",
   "execution_count": 268,
   "metadata": {},
   "outputs": [
    {
     "data": {
      "text/plain": [
       "[0.03,\n",
       " 0.71,\n",
       " 0.79,\n",
       " 0.91,\n",
       " 0.86,\n",
       " 0.92,\n",
       " 0.68,\n",
       " 0.88,\n",
       " 0.9,\n",
       " 0.92,\n",
       " 0.87,\n",
       " 0.83,\n",
       " 0.96,\n",
       " 0.71,\n",
       " 0.93,\n",
       " 0.97]"
      ]
     },
     "execution_count": 268,
     "metadata": {},
     "output_type": "execute_result"
    }
   ],
   "source": [
    "edge_density(sequences, labels)"
   ]
  },
  {
   "cell_type": "markdown",
   "metadata": {},
   "source": [
    "### DBSCAN5 2000_2"
   ]
  },
  {
   "cell_type": "code",
   "execution_count": 269,
   "metadata": {},
   "outputs": [
    {
     "name": "stdout",
     "output_type": "stream",
     "text": [
      "[-1  0  1  2  3  4  5  6  7  8  9 10 11 12 13 14 15]\n"
     ]
    }
   ],
   "source": [
    "f_in = open('/Users/olga/Downloads/dbscan5_labels_seq2000_2.txt', 'r')\n",
    "labels = []\n",
    "sequences = []\n",
    "chromosomes = []\n",
    "for line in f_in:\n",
    "    labels.append(int(line.strip().split()[-1]))\n",
    "for record in SeqIO.parse('/Users/olga/Downloads/seq2000_2.fa', 'fasta'):\n",
    "    sequences.append(str(record.seq))\n",
    "    chromosomes.append(int(record.id.split('_')[1][3:]))\n",
    "f_in.close()\n",
    "f = open('/Users/olga/Downloads/dbscan5_consensuses_seq2000_2.txt', 'r')\n",
    "consensus_strings = []\n",
    "count = 0\n",
    "for line in f:\n",
    "    count += 1\n",
    "    if count % 2 == 0:\n",
    "        consensus_strings.append(line.strip())\n",
    "f.close()\n",
    "print(np.unique(labels))"
   ]
  },
  {
   "cell_type": "code",
   "execution_count": 270,
   "metadata": {},
   "outputs": [
    {
     "name": "stdout",
     "output_type": "stream",
     "text": [
      "[64.89, 6.72, 2.17, 7.12, 5.4, 1.92, 6.13, 10.28, 1.97, 2.15, 5.18, 4.86, 2.57, 1.02, 2.28, 1.29, 1.59]\n"
     ]
    }
   ],
   "source": [
    "ms = mean_square(consensus_strings, sequences, labels)\n",
    "print(ms)"
   ]
  },
  {
   "cell_type": "code",
   "execution_count": 271,
   "metadata": {},
   "outputs": [
    {
     "data": {
      "text/plain": [
       "[{1: 17, 5: 6, 19: 31},\n",
       " {1: 165, 5: 52, 19: 311},\n",
       " {1: 29, 5: 0, 19: 0},\n",
       " {1: 147, 5: 106, 19: 326},\n",
       " {1: 119, 5: 0, 19: 0},\n",
       " {1: 0, 5: 100, 19: 0},\n",
       " {1: 42, 5: 85, 19: 2},\n",
       " {1: 92, 5: 0, 19: 0},\n",
       " {1: 33, 5: 0, 19: 0},\n",
       " {1: 33, 5: 0, 19: 0},\n",
       " {1: 49, 5: 30, 19: 10},\n",
       " {1: 41, 5: 20, 19: 3},\n",
       " {1: 0, 5: 54, 19: 0},\n",
       " {1: 20, 5: 0, 19: 0},\n",
       " {1: 0, 5: 0, 19: 15},\n",
       " {1: 35, 5: 0, 19: 0},\n",
       " {1: 27, 5: 0, 19: 0}]"
      ]
     },
     "execution_count": 271,
     "metadata": {},
     "output_type": "execute_result"
    }
   ],
   "source": [
    "centromere_cluster_distribution(sequences, labels, chromosomes)"
   ]
  },
  {
   "cell_type": "code",
   "execution_count": 272,
   "metadata": {},
   "outputs": [
    {
     "data": {
      "text/plain": [
       "[66, 9, 9, 9, 9, 9, 9, 9, 9, 9, 9, 9, 9, 9, 9, 9, 9]"
      ]
     },
     "execution_count": 272,
     "metadata": {},
     "output_type": "execute_result"
    }
   ],
   "source": [
    "min_consensus_distance(consensus_strings)"
   ]
  },
  {
   "cell_type": "code",
   "execution_count": 273,
   "metadata": {},
   "outputs": [
    {
     "data": {
      "text/plain": [
       "[0.03,\n",
       " 0.71,\n",
       " 0.79,\n",
       " 0.76,\n",
       " 0.84,\n",
       " 0.81,\n",
       " 0.94,\n",
       " 0.68,\n",
       " 0.8,\n",
       " 0.89,\n",
       " 0.92,\n",
       " 0.91,\n",
       " 0.92,\n",
       " 0.45,\n",
       " 1.0,\n",
       " 0.91,\n",
       " 0.94]"
      ]
     },
     "execution_count": 273,
     "metadata": {},
     "output_type": "execute_result"
    }
   ],
   "source": [
    "edge_density(sequences, labels)"
   ]
  },
  {
   "cell_type": "markdown",
   "metadata": {},
   "source": [
    "### DBSCAN5 2000_3"
   ]
  },
  {
   "cell_type": "code",
   "execution_count": 274,
   "metadata": {},
   "outputs": [
    {
     "name": "stdout",
     "output_type": "stream",
     "text": [
      "[-1  0  1  2  3  4  5  6  7  8  9 10 11 12 13]\n"
     ]
    }
   ],
   "source": [
    "f_in = open('/Users/olga/Downloads/dbscan5_labels_seq2000_3.txt', 'r')\n",
    "labels = []\n",
    "sequences = []\n",
    "chromosomes = []\n",
    "for line in f_in:\n",
    "    labels.append(int(line.strip().split()[-1]))\n",
    "for record in SeqIO.parse('/Users/olga/Downloads/seq2000_3.fa', 'fasta'):\n",
    "    sequences.append(str(record.seq))\n",
    "    chromosomes.append(int(record.id.split('_')[1][3:]))\n",
    "f_in.close()\n",
    "f = open('/Users/olga/Downloads/dbscan5_consensuses_seq2000_3.txt', 'r')\n",
    "consensus_strings = []\n",
    "count = 0\n",
    "for line in f:\n",
    "    count += 1\n",
    "    if count % 2 == 0:\n",
    "        consensus_strings.append(line.strip())\n",
    "f.close()\n",
    "print(np.unique(labels))"
   ]
  },
  {
   "cell_type": "code",
   "execution_count": 275,
   "metadata": {},
   "outputs": [
    {
     "name": "stdout",
     "output_type": "stream",
     "text": [
      "[43.86, 7.09, 1.98, 6.96, 6.12, 0.9, 5.52, 6.03, 2.14, 1.43, 9.46, 5.23, 0.87, 1.67, 1.88]\n"
     ]
    }
   ],
   "source": [
    "ms = mean_square(consensus_strings, sequences, labels)\n",
    "print(ms)"
   ]
  },
  {
   "cell_type": "code",
   "execution_count": 276,
   "metadata": {},
   "outputs": [
    {
     "data": {
      "text/plain": [
       "[{1: 6, 5: 4, 19: 17},\n",
       " {1: 153, 5: 116, 19: 358},\n",
       " {1: 50, 5: 0, 19: 0},\n",
       " {1: 158, 5: 82, 19: 350},\n",
       " {1: 39, 5: 21, 19: 4},\n",
       " {1: 27, 5: 0, 19: 0},\n",
       " {1: 41, 5: 25, 19: 8},\n",
       " {1: 43, 5: 80, 19: 14},\n",
       " {1: 0, 5: 48, 19: 0},\n",
       " {1: 0, 5: 76, 19: 0},\n",
       " {1: 104, 5: 0, 19: 0},\n",
       " {1: 101, 5: 0, 19: 0},\n",
       " {1: 25, 5: 0, 19: 0},\n",
       " {1: 31, 5: 0, 19: 0},\n",
       " {1: 19, 5: 0, 19: 0}]"
      ]
     },
     "execution_count": 276,
     "metadata": {},
     "output_type": "execute_result"
    }
   ],
   "source": [
    "centromere_cluster_distribution(sequences, labels, chromosomes)"
   ]
  },
  {
   "cell_type": "code",
   "execution_count": 277,
   "metadata": {},
   "outputs": [
    {
     "data": {
      "text/plain": [
       "[28, 22, 11, 11, 11, 11, 11, 11, 11, 11, 11, 11, 11, 11, 11]"
      ]
     },
     "execution_count": 277,
     "metadata": {},
     "output_type": "execute_result"
    }
   ],
   "source": [
    "min_consensus_distance(consensus_strings)"
   ]
  },
  {
   "cell_type": "code",
   "execution_count": 278,
   "metadata": {},
   "outputs": [
    {
     "data": {
      "text/plain": [
       "[0.04,\n",
       " 0.78,\n",
       " 0.87,\n",
       " 0.66,\n",
       " 0.9,\n",
       " 0.66,\n",
       " 0.91,\n",
       " 0.91,\n",
       " 0.87,\n",
       " 0.84,\n",
       " 0.54,\n",
       " 0.89,\n",
       " 0.76,\n",
       " 0.77,\n",
       " 0.92]"
      ]
     },
     "execution_count": 278,
     "metadata": {},
     "output_type": "execute_result"
    }
   ],
   "source": [
    "edge_density(sequences, labels)"
   ]
  },
  {
   "cell_type": "markdown",
   "metadata": {},
   "source": [
    "### Уральский 1000"
   ]
  },
  {
   "cell_type": "code",
   "execution_count": 336,
   "metadata": {},
   "outputs": [
    {
     "name": "stdout",
     "output_type": "stream",
     "text": [
      "[0 1 2 3 4 5]\n"
     ]
    }
   ],
   "source": [
    "f_in = open('/Users/olga/Downloads/ur_centr_seq1000_1.txt', 'r')\n",
    "labels = []\n",
    "sequences = []\n",
    "chromosomes = []\n",
    "for line in f_in:\n",
    "    labels.append(int(line.strip().split()[-1]))\n",
    "for record in SeqIO.parse('/Users/olga/Downloads/seq1000_1.fa', 'fasta'):\n",
    "    sequences.append(str(record.seq))\n",
    "    chromosomes.append(int(record.id.split('_')[1][3:]))\n",
    "f_in.close()\n",
    "consensus_strings = []\n",
    "for record in SeqIO.parse('/Users/olga/Downloads/cen1_mn.fa', 'fasta'):\n",
    "    consensus_strings.append(record.seq)\n",
    "print(np.unique(labels))"
   ]
  },
  {
   "cell_type": "code",
   "execution_count": 337,
   "metadata": {},
   "outputs": [
    {
     "name": "stdout",
     "output_type": "stream",
     "text": [
      "[60.17, 13.84, 22.88, 36.79, 16.24, 11.86]\n"
     ]
    }
   ],
   "source": [
    "ms = mean_square(consensus_strings, sequences, labels)\n",
    "print(ms)"
   ]
  },
  {
   "cell_type": "code",
   "execution_count": 338,
   "metadata": {},
   "outputs": [
    {
     "data": {
      "text/plain": [
       "[{1: 76, 5: 34, 19: 4},\n",
       " {1: 17, 5: 42, 19: 2},\n",
       " {1: 21, 5: 14, 19: 4},\n",
       " {1: 161, 5: 31, 19: 185},\n",
       " {1: 104, 5: 62, 19: 185},\n",
       " {1: 16, 5: 37, 19: 5}]"
      ]
     },
     "execution_count": 338,
     "metadata": {},
     "output_type": "execute_result"
    }
   ],
   "source": [
    "centromere_cluster_distribution(sequences, labels, chromosomes)"
   ]
  },
  {
   "cell_type": "code",
   "execution_count": 339,
   "metadata": {},
   "outputs": [
    {
     "data": {
      "text/plain": [
       "[16, 16, 14, 14, 14, 14]"
      ]
     },
     "execution_count": 339,
     "metadata": {},
     "output_type": "execute_result"
    }
   ],
   "source": [
    "min_consensus_distance(consensus_strings)"
   ]
  },
  {
   "cell_type": "code",
   "execution_count": 340,
   "metadata": {},
   "outputs": [
    {
     "data": {
      "text/plain": [
       "[0.3, 0.43, 0.77, 0.45, 0.71, 0.4]"
      ]
     },
     "execution_count": 340,
     "metadata": {},
     "output_type": "execute_result"
    }
   ],
   "source": [
    "edge_density(sequences, labels)"
   ]
  },
  {
   "cell_type": "markdown",
   "metadata": {},
   "source": [
    "### Уральский 2000_1"
   ]
  },
  {
   "cell_type": "code",
   "execution_count": 341,
   "metadata": {},
   "outputs": [
    {
     "name": "stdout",
     "output_type": "stream",
     "text": [
      "[0 1 2 3 4 5]\n"
     ]
    }
   ],
   "source": [
    "f_in = open('/Users/olga/Downloads/ur_centr_seq2000_1.txt', 'r')\n",
    "labels = []\n",
    "sequences = []\n",
    "chromosomes = []\n",
    "for line in f_in:\n",
    "    labels.append(int(line.strip().split()[-1]))\n",
    "for record in SeqIO.parse('/Users/olga/Downloads/seq2000_1.fa', 'fasta'):\n",
    "    sequences.append(str(record.seq))\n",
    "    chromosomes.append(int(record.id.split('_')[1][3:]))\n",
    "f_in.close()\n",
    "consensus_strings = []\n",
    "for record in SeqIO.parse('/Users/olga/Downloads/cen1_mn.fa', 'fasta'):\n",
    "    consensus_strings.append(record.seq)\n",
    "print(np.unique(labels))"
   ]
  },
  {
   "cell_type": "code",
   "execution_count": 342,
   "metadata": {},
   "outputs": [
    {
     "name": "stdout",
     "output_type": "stream",
     "text": [
      "[54.85, 14.72, 33.72, 40.03, 18.76, 12.22]\n"
     ]
    }
   ],
   "source": [
    "ms = mean_square(consensus_strings, sequences, labels)\n",
    "print(ms)"
   ]
  },
  {
   "cell_type": "code",
   "execution_count": 343,
   "metadata": {},
   "outputs": [
    {
     "data": {
      "text/plain": [
       "[{1: 162, 5: 99, 19: 7},\n",
       " {1: 35, 5: 84, 19: 2},\n",
       " {1: 62, 5: 28, 19: 7},\n",
       " {1: 314, 5: 61, 19: 339},\n",
       " {1: 214, 5: 105, 19: 349},\n",
       " {1: 38, 5: 88, 19: 6}]"
      ]
     },
     "execution_count": 343,
     "metadata": {},
     "output_type": "execute_result"
    }
   ],
   "source": [
    "centromere_cluster_distribution(sequences, labels, chromosomes)"
   ]
  },
  {
   "cell_type": "code",
   "execution_count": 344,
   "metadata": {},
   "outputs": [
    {
     "data": {
      "text/plain": [
       "[16, 16, 14, 14, 14, 14]"
      ]
     },
     "execution_count": 344,
     "metadata": {},
     "output_type": "execute_result"
    }
   ],
   "source": [
    "min_consensus_distance(consensus_strings)"
   ]
  },
  {
   "cell_type": "code",
   "execution_count": 345,
   "metadata": {},
   "outputs": [
    {
     "data": {
      "text/plain": [
       "[0.35, 0.42, 0.61, 0.43, 0.69, 0.44]"
      ]
     },
     "execution_count": 345,
     "metadata": {},
     "output_type": "execute_result"
    }
   ],
   "source": [
    "edge_density(sequences, labels)"
   ]
  },
  {
   "cell_type": "markdown",
   "metadata": {},
   "source": [
    "### Уральский 2000_2"
   ]
  },
  {
   "cell_type": "code",
   "execution_count": 291,
   "metadata": {},
   "outputs": [
    {
     "name": "stdout",
     "output_type": "stream",
     "text": [
      "[0 1 2 3 4 5]\n"
     ]
    }
   ],
   "source": [
    "f_in = open('/Users/olga/Downloads/ur_centr_seq2000_2.txt', 'r')\n",
    "labels = []\n",
    "sequences = []\n",
    "chromosomes = []\n",
    "for line in f_in:\n",
    "    labels.append(int(line.strip().split()[-1]))\n",
    "for record in SeqIO.parse('/Users/olga/Downloads/seq2000_2.fa', 'fasta'):\n",
    "    sequences.append(str(record.seq))\n",
    "    chromosomes.append(int(record.id.split('_')[1][3:]))\n",
    "f_in.close()\n",
    "f = open('/Users/olga/Downloads/cen1_mn.txt', 'r')\n",
    "consensus_strings = []\n",
    "count = 0\n",
    "for line in f:\n",
    "    count += 1\n",
    "    if count % 2 == 0:\n",
    "        consensus_strings.append(line.strip())\n",
    "f.close()\n",
    "print(np.unique(labels))"
   ]
  },
  {
   "cell_type": "code",
   "execution_count": 292,
   "metadata": {},
   "outputs": [
    {
     "name": "stdout",
     "output_type": "stream",
     "text": [
      "[113.42, 121.68, 115.79, 122.91, 113.1, 122.14]\n"
     ]
    }
   ],
   "source": [
    "ms = mean_square(consensus_strings, sequences, labels)\n",
    "print(ms)"
   ]
  },
  {
   "cell_type": "code",
   "execution_count": 293,
   "metadata": {},
   "outputs": [
    {
     "data": {
      "text/plain": [
       "[{1: 174, 5: 85, 19: 2},\n",
       " {1: 44, 5: 76, 19: 5},\n",
       " {1: 72, 5: 31, 19: 13},\n",
       " {1: 337, 5: 56, 19: 339},\n",
       " {1: 188, 5: 107, 19: 332},\n",
       " {1: 34, 5: 98, 19: 7}]"
      ]
     },
     "execution_count": 293,
     "metadata": {},
     "output_type": "execute_result"
    }
   ],
   "source": [
    "centromere_cluster_distribution(sequences, labels, chromosomes)"
   ]
  },
  {
   "cell_type": "code",
   "execution_count": 294,
   "metadata": {},
   "outputs": [
    {
     "data": {
      "text/plain": [
       "[5, 5, 5, 5, 5, 1, 1, 1, 1, 1, 1, 1]"
      ]
     },
     "execution_count": 294,
     "metadata": {},
     "output_type": "execute_result"
    }
   ],
   "source": [
    "min_consensus_distance(consensus_strings)"
   ]
  },
  {
   "cell_type": "code",
   "execution_count": 295,
   "metadata": {},
   "outputs": [
    {
     "data": {
      "text/plain": [
       "[0.31, 0.44, 0.58, 0.41, 0.66, 0.44]"
      ]
     },
     "execution_count": 295,
     "metadata": {},
     "output_type": "execute_result"
    }
   ],
   "source": [
    "edge_density(sequences, labels)"
   ]
  },
  {
   "cell_type": "markdown",
   "metadata": {},
   "source": [
    "### Уральский 2000_3"
   ]
  },
  {
   "cell_type": "code",
   "execution_count": 296,
   "metadata": {},
   "outputs": [
    {
     "name": "stdout",
     "output_type": "stream",
     "text": [
      "[0 1 2 3 4 5]\n"
     ]
    }
   ],
   "source": [
    "f_in = open('/Users/olga/Downloads/ur_centr_seq2000_3.txt', 'r')\n",
    "labels = []\n",
    "sequences = []\n",
    "chromosomes = []\n",
    "for line in f_in:\n",
    "    labels.append(int(line.strip().split()[-1]))\n",
    "for record in SeqIO.parse('/Users/olga/Downloads/seq2000_3.fa', 'fasta'):\n",
    "    sequences.append(str(record.seq))\n",
    "    chromosomes.append(int(record.id.split('_')[1][3:]))\n",
    "f_in.close()\n",
    "f = open('/Users/olga/Downloads/cen1_mn.txt', 'r')\n",
    "consensus_strings = []\n",
    "count = 0\n",
    "for line in f:\n",
    "    count += 1\n",
    "    if count % 2 == 0:\n",
    "        consensus_strings.append(line.strip())\n",
    "f.close()\n",
    "print(np.unique(labels))"
   ]
  },
  {
   "cell_type": "code",
   "execution_count": 297,
   "metadata": {},
   "outputs": [
    {
     "name": "stdout",
     "output_type": "stream",
     "text": [
      "[113.16, 121.72, 116.12, 123.0, 113.11, 122.16]\n"
     ]
    }
   ],
   "source": [
    "ms = mean_square(consensus_strings, sequences, labels)\n",
    "print(ms)"
   ]
  },
  {
   "cell_type": "code",
   "execution_count": 298,
   "metadata": {},
   "outputs": [
    {
     "data": {
      "text/plain": [
       "[{1: 167, 5: 80, 19: 14},\n",
       " {1: 43, 5: 73, 19: 9},\n",
       " {1: 52, 5: 21, 19: 5},\n",
       " {1: 301, 5: 84, 19: 358},\n",
       " {1: 181, 5: 117, 19: 360},\n",
       " {1: 53, 5: 77, 19: 5}]"
      ]
     },
     "execution_count": 298,
     "metadata": {},
     "output_type": "execute_result"
    }
   ],
   "source": [
    "centromere_cluster_distribution(sequences, labels, chromosomes)"
   ]
  },
  {
   "cell_type": "code",
   "execution_count": 299,
   "metadata": {},
   "outputs": [
    {
     "data": {
      "text/plain": [
       "[5, 5, 5, 5, 5, 1, 1, 1, 1, 1, 1, 1]"
      ]
     },
     "execution_count": 299,
     "metadata": {},
     "output_type": "execute_result"
    }
   ],
   "source": [
    "min_consensus_distance(consensus_strings)"
   ]
  },
  {
   "cell_type": "code",
   "execution_count": 300,
   "metadata": {},
   "outputs": [
    {
     "data": {
      "text/plain": [
       "[0.31, 0.45, 0.63, 0.44, 0.71, 0.39]"
      ]
     },
     "execution_count": 300,
     "metadata": {},
     "output_type": "execute_result"
    }
   ],
   "source": [
    "edge_density(sequences, labels)"
   ]
  },
  {
   "cell_type": "markdown",
   "metadata": {},
   "source": [
    "### Affinity prop 1000"
   ]
  },
  {
   "cell_type": "code",
   "execution_count": 301,
   "metadata": {},
   "outputs": [
    {
     "name": "stdout",
     "output_type": "stream",
     "text": [
      "[0 1 2 3 4 5]\n"
     ]
    }
   ],
   "source": [
    "f_in = open('/Users/olga/Downloads/affinity_labels_seq1000_1.txt', 'r')\n",
    "labels = []\n",
    "sequences = []\n",
    "chromosomes = []\n",
    "for line in f_in:\n",
    "    labels.append(int(line.strip().split()[-1]))\n",
    "for record in SeqIO.parse('/Users/olga/Downloads/seq1000_1.fa', 'fasta'):\n",
    "    sequences.append(str(record.seq))\n",
    "    chromosomes.append(int(record.id.split('_')[1][3:]))\n",
    "f_in.close()\n",
    "f = open('/Users/olga/Downloads/affinity_consensuses_seq1000_1.txt', 'r')\n",
    "consensus_strings = []\n",
    "count = 0\n",
    "for line in f:\n",
    "    count += 1\n",
    "    if count % 2 == 0:\n",
    "        consensus_strings.append(line.strip())\n",
    "f.close()\n",
    "print(np.unique(labels))"
   ]
  },
  {
   "cell_type": "code",
   "execution_count": 302,
   "metadata": {},
   "outputs": [
    {
     "name": "stdout",
     "output_type": "stream",
     "text": [
      "[19.7, 37.26, 57.77, 25.67, 29.39, 28.21]\n"
     ]
    }
   ],
   "source": [
    "ms = mean_square(consensus_strings, sequences, labels)\n",
    "print(ms)"
   ]
  },
  {
   "cell_type": "code",
   "execution_count": 303,
   "metadata": {},
   "outputs": [
    {
     "data": {
      "text/plain": [
       "[{1: 79, 5: 10, 19: 166},\n",
       " {1: 117, 5: 120, 19: 174},\n",
       " {1: 101, 5: 0, 19: 1},\n",
       " {1: 45, 5: 1, 19: 0},\n",
       " {1: 34, 5: 44, 19: 41},\n",
       " {1: 19, 5: 45, 19: 3}]"
      ]
     },
     "execution_count": 303,
     "metadata": {},
     "output_type": "execute_result"
    }
   ],
   "source": [
    "centromere_cluster_distribution(sequences, labels, chromosomes)"
   ]
  },
  {
   "cell_type": "code",
   "execution_count": 304,
   "metadata": {},
   "outputs": [
    {
     "data": {
      "text/plain": [
       "[45, 21, 21, 21, 21, 21]"
      ]
     },
     "execution_count": 304,
     "metadata": {},
     "output_type": "execute_result"
    }
   ],
   "source": [
    "min_consensus_distance(consensus_strings)"
   ]
  },
  {
   "cell_type": "code",
   "execution_count": 305,
   "metadata": {},
   "outputs": [
    {
     "data": {
      "text/plain": [
       "[0.6, 0.4, 0.27, 0.33, 0.25, 0.27]"
      ]
     },
     "execution_count": 305,
     "metadata": {},
     "output_type": "execute_result"
    }
   ],
   "source": [
    "edge_density(sequences, labels)"
   ]
  },
  {
   "cell_type": "markdown",
   "metadata": {},
   "source": [
    "### Affinity prop 2000_1"
   ]
  },
  {
   "cell_type": "code",
   "execution_count": 315,
   "metadata": {},
   "outputs": [
    {
     "name": "stdout",
     "output_type": "stream",
     "text": [
      "[0 1 2 3 4 5 6 7]\n"
     ]
    }
   ],
   "source": [
    "f_in = open('/Users/olga/Downloads/affinity_labels_seq2000_1.txt', 'r')\n",
    "labels = []\n",
    "sequences = []\n",
    "chromosomes = []\n",
    "for line in f_in:\n",
    "    labels.append(int(line.strip().split()[-1]))\n",
    "for record in SeqIO.parse('/Users/olga/Downloads/seq2000_1.fa', 'fasta'):\n",
    "    sequences.append(str(record.seq))\n",
    "    chromosomes.append(int(record.id.split('_')[1][3:]))\n",
    "f_in.close()\n",
    "f = open('/Users/olga/Downloads/affinity_consensuses_seq2000_1.txt', 'r')\n",
    "consensus_strings = []\n",
    "count = 0\n",
    "for line in f:\n",
    "    count += 1\n",
    "    if count % 2 == 0:\n",
    "        consensus_strings.append(line.strip())\n",
    "f.close()\n",
    "print(np.unique(labels))"
   ]
  },
  {
   "cell_type": "code",
   "execution_count": 316,
   "metadata": {},
   "outputs": [
    {
     "name": "stdout",
     "output_type": "stream",
     "text": [
      "[28.91, 23.17, 36.44, 68.52, 14.24, 24.48, 31.94, 14.5]\n"
     ]
    }
   ],
   "source": [
    "ms = mean_square(consensus_strings, sequences, labels)\n",
    "print(ms)"
   ]
  },
  {
   "cell_type": "code",
   "execution_count": 317,
   "metadata": {},
   "outputs": [
    {
     "data": {
      "text/plain": [
       "[{1: 119, 5: 1, 19: 0},\n",
       " {1: 70, 5: 1, 19: 0},\n",
       " {1: 67, 5: 0, 19: 0},\n",
       " {1: 407, 5: 374, 19: 564},\n",
       " {1: 42, 5: 10, 19: 50},\n",
       " {1: 25, 5: 10, 19: 22},\n",
       " {1: 20, 5: 69, 19: 73},\n",
       " {1: 75, 5: 0, 19: 1}]"
      ]
     },
     "execution_count": 317,
     "metadata": {},
     "output_type": "execute_result"
    }
   ],
   "source": [
    "centromere_cluster_distribution(sequences, labels, chromosomes)"
   ]
  },
  {
   "cell_type": "code",
   "execution_count": 318,
   "metadata": {},
   "outputs": [
    {
     "data": {
      "text/plain": [
       "[34, 23, 23, 23, 23, 23, 23, 23]"
      ]
     },
     "execution_count": 318,
     "metadata": {},
     "output_type": "execute_result"
    }
   ],
   "source": [
    "min_consensus_distance(consensus_strings)"
   ]
  },
  {
   "cell_type": "code",
   "execution_count": 309,
   "metadata": {},
   "outputs": [
    {
     "data": {
      "text/plain": [
       "[0.42, 0.35, 0.28, 0.23, 0.6, 0.45, 0.26, 0.71]"
      ]
     },
     "execution_count": 309,
     "metadata": {},
     "output_type": "execute_result"
    }
   ],
   "source": [
    "edge_density(sequences, labels)"
   ]
  },
  {
   "cell_type": "markdown",
   "metadata": {},
   "source": [
    "### Affinity prop 2000_2"
   ]
  },
  {
   "cell_type": "code",
   "execution_count": 319,
   "metadata": {},
   "outputs": [
    {
     "name": "stdout",
     "output_type": "stream",
     "text": [
      "[0 1 2 3 4 5 6 7 8 9]\n"
     ]
    }
   ],
   "source": [
    "f_in = open('/Users/olga/Downloads/affinity_labels_seq2000_2.txt', 'r')\n",
    "labels = []\n",
    "sequences = []\n",
    "chromosomes = []\n",
    "for line in f_in:\n",
    "    labels.append(int(line.strip().split()[-1]))\n",
    "for record in SeqIO.parse('/Users/olga/Downloads/seq2000_2.fa', 'fasta'):\n",
    "    sequences.append(str(record.seq))\n",
    "    chromosomes.append(int(record.id.split('_')[1][3:]))\n",
    "f_in.close()\n",
    "f = open('/Users/olga/Downloads/affinity_consensuses_seq2000_2.txt', 'r')\n",
    "consensus_strings = []\n",
    "count = 0\n",
    "for line in f:\n",
    "    count += 1\n",
    "    if count % 2 == 0:\n",
    "        consensus_strings.append(line.strip())\n",
    "f.close()\n",
    "print(np.unique(labels))"
   ]
  },
  {
   "cell_type": "code",
   "execution_count": 320,
   "metadata": {},
   "outputs": [
    {
     "name": "stdout",
     "output_type": "stream",
     "text": [
      "[33.03, 33.67, 23.7, 59.44, 35.58, 58.82, 22.54, 18.51, 19.46, 34.39]\n"
     ]
    }
   ],
   "source": [
    "ms = mean_square(consensus_strings, sequences, labels)\n",
    "print(ms)"
   ]
  },
  {
   "cell_type": "code",
   "execution_count": 321,
   "metadata": {},
   "outputs": [
    {
     "data": {
      "text/plain": [
       "[{1: 87, 5: 102, 19: 112},\n",
       " {1: 130, 5: 197, 19: 219},\n",
       " {1: 45, 5: 34, 19: 38},\n",
       " {1: 34, 5: 59, 19: 89},\n",
       " {1: 181, 5: 0, 19: 1},\n",
       " {1: 117, 5: 51, 19: 126},\n",
       " {1: 88, 5: 0, 19: 1},\n",
       " {1: 78, 5: 8, 19: 112},\n",
       " {1: 32, 5: 1, 19: 0},\n",
       " {1: 57, 5: 1, 19: 0}]"
      ]
     },
     "execution_count": 321,
     "metadata": {},
     "output_type": "execute_result"
    }
   ],
   "source": [
    "centromere_cluster_distribution(sequences, labels, chromosomes)"
   ]
  },
  {
   "cell_type": "code",
   "execution_count": 322,
   "metadata": {},
   "outputs": [
    {
     "data": {
      "text/plain": [
       "[39, 23, 23, 23, 23, 23, 23, 23, 23, 27]"
      ]
     },
     "execution_count": 322,
     "metadata": {},
     "output_type": "execute_result"
    }
   ],
   "source": [
    "min_consensus_distance(consensus_strings)"
   ]
  },
  {
   "cell_type": "code",
   "execution_count": 323,
   "metadata": {},
   "outputs": [
    {
     "data": {
      "text/plain": [
       "[0.28, 0.29, 0.36, 0.35, 0.4, 0.31, 0.63, 0.74, 0.77, 0.27]"
      ]
     },
     "execution_count": 323,
     "metadata": {},
     "output_type": "execute_result"
    }
   ],
   "source": [
    "edge_density(sequences, labels)"
   ]
  },
  {
   "cell_type": "markdown",
   "metadata": {},
   "source": [
    "### Affinity prop 2000_3"
   ]
  },
  {
   "cell_type": "code",
   "execution_count": 324,
   "metadata": {},
   "outputs": [
    {
     "name": "stdout",
     "output_type": "stream",
     "text": [
      "[0 1 2 3 4 5 6 7]\n"
     ]
    }
   ],
   "source": [
    "f_in = open('/Users/olga/Downloads/affinity_labels_seq2000_3.txt', 'r')\n",
    "labels = []\n",
    "sequences = []\n",
    "chromosomes = []\n",
    "for line in f_in:\n",
    "    labels.append(int(line.strip().split()[-1]))\n",
    "for record in SeqIO.parse('/Users/olga/Downloads/seq2000_3.fa', 'fasta'):\n",
    "    sequences.append(str(record.seq))\n",
    "    chromosomes.append(int(record.id.split('_')[1][3:]))\n",
    "f_in.close()\n",
    "f = open('/Users/olga/Downloads/affinity_consensuses_seq2000_3.txt', 'r')\n",
    "consensus_strings = []\n",
    "count = 0\n",
    "for line in f:\n",
    "    count += 1\n",
    "    if count % 2 == 0:\n",
    "        consensus_strings.append(line.strip())\n",
    "f.close()\n",
    "print(np.unique(labels))"
   ]
  },
  {
   "cell_type": "code",
   "execution_count": 325,
   "metadata": {},
   "outputs": [
    {
     "name": "stdout",
     "output_type": "stream",
     "text": [
      "[16.77, 9.5, 27.05, 59.34, 26.54, 20.11, 24.9, 17.52]\n"
     ]
    }
   ],
   "source": [
    "ms = mean_square(consensus_strings, sequences, labels)\n",
    "print(ms)"
   ]
  },
  {
   "cell_type": "code",
   "execution_count": 326,
   "metadata": {},
   "outputs": [
    {
     "data": {
      "text/plain": [
       "[{1: 146, 5: 223, 19: 363},\n",
       " {1: 77, 5: 23, 19: 197},\n",
       " {1: 58, 5: 3, 19: 55},\n",
       " {1: 130, 5: 48, 19: 45},\n",
       " {1: 143, 5: 1, 19: 0},\n",
       " {1: 8, 5: 57, 19: 14},\n",
       " {1: 75, 5: 96, 19: 77},\n",
       " {1: 160, 5: 1, 19: 0}]"
      ]
     },
     "execution_count": 326,
     "metadata": {},
     "output_type": "execute_result"
    }
   ],
   "source": [
    "centromere_cluster_distribution(sequences, labels, chromosomes)"
   ]
  },
  {
   "cell_type": "code",
   "execution_count": 327,
   "metadata": {},
   "outputs": [
    {
     "data": {
      "text/plain": [
       "[54, 27, 27, 27, 27, 27, 27, 27]"
      ]
     },
     "execution_count": 327,
     "metadata": {},
     "output_type": "execute_result"
    }
   ],
   "source": [
    "min_consensus_distance(consensus_strings)"
   ]
  },
  {
   "cell_type": "code",
   "execution_count": 328,
   "metadata": {},
   "outputs": [
    {
     "data": {
      "text/plain": [
       "[0.47, 0.72, 0.29, 0.21, 0.46, 0.37, 0.27, 0.27]"
      ]
     },
     "execution_count": 328,
     "metadata": {},
     "output_type": "execute_result"
    }
   ],
   "source": [
    "edge_density(sequences, labels)"
   ]
  },
  {
   "cell_type": "code",
   "execution_count": null,
   "metadata": {},
   "outputs": [],
   "source": []
  }
 ],
 "metadata": {
  "kernelspec": {
   "display_name": "Python 3",
   "language": "python",
   "name": "python3"
  },
  "language_info": {
   "codemirror_mode": {
    "name": "ipython",
    "version": 3
   },
   "file_extension": ".py",
   "mimetype": "text/x-python",
   "name": "python",
   "nbconvert_exporter": "python",
   "pygments_lexer": "ipython3",
   "version": "3.7.4"
  }
 },
 "nbformat": 4,
 "nbformat_minor": 2
}
