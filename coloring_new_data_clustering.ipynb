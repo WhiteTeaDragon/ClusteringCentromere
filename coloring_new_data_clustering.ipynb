{
 "cells": [
  {
   "cell_type": "code",
   "execution_count": 21,
   "metadata": {},
   "outputs": [],
   "source": [
    "import pandas as pd\n",
    "import numpy as np\n",
    "from Bio import SeqIO\n",
    "from Bio.SeqRecord import SeqRecord\n",
    "import edlib"
   ]
  },
  {
   "cell_type": "markdown",
   "metadata": {},
   "source": [
    "### DBSCAN"
   ]
  },
  {
   "cell_type": "markdown",
   "metadata": {},
   "source": [
    "#### DBSCAN 15"
   ]
  },
  {
   "cell_type": "code",
   "execution_count": 47,
   "metadata": {},
   "outputs": [
    {
     "name": "stdout",
     "output_type": "stream",
     "text": [
      "[-1  0  1  2  3  4  5]\n"
     ]
    }
   ],
   "source": [
    "f_in = open('dbscan15_labels_seq1000_1.txt', 'r')\n",
    "colors = []\n",
    "sequences = []\n",
    "for line in f_in:\n",
    "    colors.append(int(line.strip().split()[-1]))\n",
    "for record in SeqIO.parse('seq1000_1.fa', 'fasta'):\n",
    "    sequences.append(str(record.seq))\n",
    "#print(colors)\n",
    "print(np.unique(colors))\n",
    "f_in.close()"
   ]
  },
  {
   "cell_type": "code",
   "execution_count": 48,
   "metadata": {},
   "outputs": [
    {
     "name": "stdout",
     "output_type": "stream",
     "text": [
      "[[ 0 15 42 ... 48 42 43]\n",
      " [15  0 50 ... 56 51 51]\n",
      " [42 50  0 ... 19  2  1]\n",
      " ...\n",
      " [48 56 19 ...  0 22 21]\n",
      " [42 51  2 ... 22  0  3]\n",
      " [43 51  1 ... 21  3  0]]\n"
     ]
    }
   ],
   "source": [
    "dist_matrix = np.zeros((len(sequences), len(sequences)), dtype='int')\n",
    "for i in range(len(sequences)):\n",
    "    for j in range(i, len(sequences)):\n",
    "        dist_matrix[i, j] = edlib.align(sequences[i], sequences[j], mode='HW', task='path')['editDistance']\n",
    "dist_matrix = dist_matrix + dist_matrix.T\n",
    "print(dist_matrix)"
   ]
  },
  {
   "cell_type": "code",
   "execution_count": 49,
   "metadata": {},
   "outputs": [
    {
     "name": "stdout",
     "output_type": "stream",
     "text": [
      "79860\n"
     ]
    }
   ],
   "source": [
    "edges = np.zeros((len(sequences), len(sequences)), dtype='int')\n",
    "count = 0\n",
    "for i in range(len(sequences)):\n",
    "    for j in range(i, len(sequences)):\n",
    "        if 0 < dist_matrix[i, j] < 10:\n",
    "            edges[i, j] = dist_matrix[i, j]\n",
    "            count += 1\n",
    "print(count)"
   ]
  },
  {
   "cell_type": "code",
   "execution_count": 50,
   "metadata": {},
   "outputs": [],
   "source": [
    "c_names = ['black', 'green', 'yellow', 'red', 'firebrick', 'cyan', 'orange', 'chocolate', \n",
    "          'purple', 'deepskyblue', 'turquoise', 'slategray', 'cornflowerblue', 'blueviolet',\n",
    "          'violet', 'purple', 'magenta', 'hotpink', 'royalblue', 'azure', 'khaki', 'peru',\n",
    "           'beige', 'lightgreen', 'thistle', 'oldlace']\n",
    "def cluster_to_color(color):\n",
    "    return c_names[color + 1]"
   ]
  },
  {
   "cell_type": "code",
   "execution_count": 51,
   "metadata": {},
   "outputs": [],
   "source": [
    "f = open('graph_seq1000_1_dbscan15.graphml', 'w')\n",
    "f.write('<?xml version=\"1.0\" encoding=\"UTF-8\"?>\\n')\n",
    "f.write('<graphml xmlns=\"http://graphml.graphdrawing.org/xmlns\" xmlns:xsi=\"http://www.w3.org/2001/XMLSchema-instance\"\\n')\n",
    "f.write('xsi:schemaLocation=\"http://graphml.graphdrawing.org/xmlns http://graphml.graphdrawing.org/xmlns/1.0/graphml.xsd\">\\n')\n",
    "f.write('<key id=\"d0\" for=\"node\" attr.name=\"color\" attr.type=\"string\">\\n')\n",
    "f.write('<default>yellow</default>\\n')\n",
    "f.write('</key>\\n')\n",
    "f.write('<key id=\"d1\" for=\"edge\" attr.name=\"weight\" attr.type=\"double\"/>\\n')\n",
    "f.write('<graph id=\"G\" edgedefault=\"undirected\">\\n')\n",
    "for i in range(len(colors)):\n",
    "    f.write(f'<node id=\"n{i}\">\\n')\n",
    "    f.write(f'<data key=\"d0\">{cluster_to_color(colors[i])}</data>\\n')\n",
    "    f.write('</node>\\n')\n",
    "count = 0\n",
    "for i in range(len(sequences)):\n",
    "    for j in range(i + 1, len(sequences)):\n",
    "        if edges[i, j] > 0:\n",
    "            f.write(f'<edge id=\"e{count}\" source=\"n{i}\" target=\"n{j}\">\\n')\n",
    "            f.write(f'<data key=\"d1\">{edges[i, j]}</data>\\n')\n",
    "            f.write(f'</edge>')\n",
    "            count += 1\n",
    "f.write('</graph>\\n')\n",
    "f.write('</graphml>')\n",
    "f.close()"
   ]
  },
  {
   "cell_type": "code",
   "execution_count": null,
   "metadata": {},
   "outputs": [],
   "source": []
  },
  {
   "cell_type": "code",
   "execution_count": 52,
   "metadata": {},
   "outputs": [
    {
     "name": "stdout",
     "output_type": "stream",
     "text": [
      "[-1  0  1  2  3  4]\n"
     ]
    }
   ],
   "source": [
    "f_in = open('dbscan15_labels_seq2000_1.txt', 'r')\n",
    "colors = []\n",
    "sequences = []\n",
    "for line in f_in:\n",
    "    colors.append(int(line.strip().split()[-1]))\n",
    "for record in SeqIO.parse('seq2000_1.fa', 'fasta'):\n",
    "    sequences.append(str(record.seq))\n",
    "#print(colors)\n",
    "print(np.unique(colors))\n",
    "f_in.close()"
   ]
  },
  {
   "cell_type": "code",
   "execution_count": 53,
   "metadata": {},
   "outputs": [
    {
     "name": "stdout",
     "output_type": "stream",
     "text": [
      "[[ 0 45 15 ... 79  8 79]\n",
      " [45  0 52 ... 81 49 82]\n",
      " [15 52  0 ... 85 17 83]\n",
      " ...\n",
      " [79 81 85 ...  0 84 44]\n",
      " [ 8 49 17 ... 84  0 81]\n",
      " [79 82 83 ... 44 81  0]]\n"
     ]
    }
   ],
   "source": [
    "dist_matrix = np.zeros((len(sequences), len(sequences)), dtype='int')\n",
    "for i in range(len(sequences)):\n",
    "    for j in range(i, len(sequences)):\n",
    "        dist_matrix[i, j] = edlib.align(sequences[i], sequences[j], mode='HW', task='path')['editDistance']\n",
    "dist_matrix = dist_matrix + dist_matrix.T\n",
    "print(dist_matrix)"
   ]
  },
  {
   "cell_type": "code",
   "execution_count": 54,
   "metadata": {},
   "outputs": [
    {
     "name": "stdout",
     "output_type": "stream",
     "text": [
      "288689\n"
     ]
    }
   ],
   "source": [
    "edges = np.zeros((len(sequences), len(sequences)), dtype='int')\n",
    "count = 0\n",
    "for i in range(len(sequences)):\n",
    "    for j in range(i, len(sequences)):\n",
    "        if 0 < dist_matrix[i, j] < 10:\n",
    "            edges[i, j] = dist_matrix[i, j]\n",
    "            count += 1\n",
    "print(count)"
   ]
  },
  {
   "cell_type": "code",
   "execution_count": 55,
   "metadata": {},
   "outputs": [],
   "source": [
    "f = open('graph_seq2000_1_dbscan15.graphml', 'w')\n",
    "f.write('<?xml version=\"1.0\" encoding=\"UTF-8\"?>\\n')\n",
    "f.write('<graphml xmlns=\"http://graphml.graphdrawing.org/xmlns\" xmlns:xsi=\"http://www.w3.org/2001/XMLSchema-instance\"\\n')\n",
    "f.write('xsi:schemaLocation=\"http://graphml.graphdrawing.org/xmlns http://graphml.graphdrawing.org/xmlns/1.0/graphml.xsd\">\\n')\n",
    "f.write('<key id=\"d0\" for=\"node\" attr.name=\"color\" attr.type=\"string\">\\n')\n",
    "f.write('<default>yellow</default>\\n')\n",
    "f.write('</key>\\n')\n",
    "f.write('<key id=\"d1\" for=\"edge\" attr.name=\"weight\" attr.type=\"double\"/>\\n')\n",
    "f.write('<graph id=\"G\" edgedefault=\"undirected\">\\n')\n",
    "for i in range(len(colors)):\n",
    "    f.write(f'<node id=\"n{i}\">\\n')\n",
    "    f.write(f'<data key=\"d0\">{cluster_to_color(colors[i])}</data>\\n')\n",
    "    f.write('</node>\\n')\n",
    "count = 0\n",
    "for i in range(len(sequences)):\n",
    "    for j in range(i + 1, len(sequences)):\n",
    "        if edges[i, j] > 0:\n",
    "            f.write(f'<edge id=\"e{count}\" source=\"n{i}\" target=\"n{j}\">\\n')\n",
    "            f.write(f'<data key=\"d1\">{edges[i, j]}</data>\\n')\n",
    "            f.write(f'</edge>')\n",
    "            count += 1\n",
    "#<edge id=\"e3\" source=\"n3\" target=\"n2\"/>\n",
    "#<edge id=\"e4\" source=\"n2\" target=\"n4\"/>\n",
    "#<edge id=\"e5\" source=\"n3\" target=\"n5\"/>\n",
    "#<edge id=\"e6\" source=\"n5\" target=\"n4\">\n",
    "f.write('</graph>\\n')\n",
    "f.write('</graphml>')\n",
    "f.close()"
   ]
  },
  {
   "cell_type": "code",
   "execution_count": null,
   "metadata": {},
   "outputs": [],
   "source": []
  },
  {
   "cell_type": "code",
   "execution_count": 56,
   "metadata": {},
   "outputs": [
    {
     "name": "stdout",
     "output_type": "stream",
     "text": [
      "[-1  0  1  2  3  4  5  6]\n"
     ]
    }
   ],
   "source": [
    "f_in = open('dbscan15_labels_seq2000_2.txt', 'r')\n",
    "colors = []\n",
    "sequences = []\n",
    "for line in f_in:\n",
    "    colors.append(int(line.strip().split()[-1]))\n",
    "for record in SeqIO.parse('seq2000_2.fa', 'fasta'):\n",
    "    sequences.append(str(record.seq))\n",
    "#print(colors)\n",
    "print(np.unique(colors))\n",
    "f_in.close()"
   ]
  },
  {
   "cell_type": "code",
   "execution_count": 57,
   "metadata": {},
   "outputs": [
    {
     "name": "stdout",
     "output_type": "stream",
     "text": [
      "[[ 0 80 25 ... 53 16 80]\n",
      " [80  0 83 ... 81 85 10]\n",
      " [25 83  0 ... 56 18 82]\n",
      " ...\n",
      " [53 81 56 ...  0 48 82]\n",
      " [16 85 18 ... 48  0 84]\n",
      " [80 10 82 ... 82 84  0]]\n"
     ]
    }
   ],
   "source": [
    "dist_matrix = np.zeros((len(sequences), len(sequences)), dtype='int')\n",
    "for i in range(len(sequences)):\n",
    "    for j in range(i, len(sequences)):\n",
    "        dist_matrix[i, j] = edlib.align(sequences[i], sequences[j], mode='HW', task='path')['editDistance']\n",
    "dist_matrix = dist_matrix + dist_matrix.T\n",
    "print(dist_matrix)"
   ]
  },
  {
   "cell_type": "code",
   "execution_count": 58,
   "metadata": {},
   "outputs": [
    {
     "name": "stdout",
     "output_type": "stream",
     "text": [
      "263097\n"
     ]
    }
   ],
   "source": [
    "edges = np.zeros((len(sequences), len(sequences)), dtype='int')\n",
    "count = 0\n",
    "for i in range(len(sequences)):\n",
    "    for j in range(i, len(sequences)):\n",
    "        if 0 < dist_matrix[i, j] < 10:\n",
    "            edges[i, j] = dist_matrix[i, j]\n",
    "            count += 1\n",
    "print(count)"
   ]
  },
  {
   "cell_type": "code",
   "execution_count": 59,
   "metadata": {},
   "outputs": [],
   "source": [
    "f = open('graph_seq2000_2_dbscan15.graphml', 'w')\n",
    "f.write('<?xml version=\"1.0\" encoding=\"UTF-8\"?>\\n')\n",
    "f.write('<graphml xmlns=\"http://graphml.graphdrawing.org/xmlns\" xmlns:xsi=\"http://www.w3.org/2001/XMLSchema-instance\"\\n')\n",
    "f.write('xsi:schemaLocation=\"http://graphml.graphdrawing.org/xmlns http://graphml.graphdrawing.org/xmlns/1.0/graphml.xsd\">\\n')\n",
    "f.write('<key id=\"d0\" for=\"node\" attr.name=\"color\" attr.type=\"string\">\\n')\n",
    "f.write('<default>yellow</default>\\n')\n",
    "f.write('</key>\\n')\n",
    "f.write('<key id=\"d1\" for=\"edge\" attr.name=\"weight\" attr.type=\"double\"/>\\n')\n",
    "f.write('<graph id=\"G\" edgedefault=\"undirected\">\\n')\n",
    "for i in range(len(colors)):\n",
    "    f.write(f'<node id=\"n{i}\">\\n')\n",
    "    f.write(f'<data key=\"d0\">{cluster_to_color(colors[i])}</data>\\n')\n",
    "    f.write('</node>\\n')\n",
    "count = 0\n",
    "for i in range(len(sequences)):\n",
    "    for j in range(i + 1, len(sequences)):\n",
    "        if edges[i, j] > 0:\n",
    "            f.write(f'<edge id=\"e{count}\" source=\"n{i}\" target=\"n{j}\">\\n')\n",
    "            f.write(f'<data key=\"d1\">{edges[i, j]}</data>\\n')\n",
    "            f.write(f'</edge>')\n",
    "            count += 1\n",
    "f.write('</graph>\\n')\n",
    "f.write('</graphml>')\n",
    "f.close()"
   ]
  },
  {
   "cell_type": "code",
   "execution_count": null,
   "metadata": {},
   "outputs": [],
   "source": []
  },
  {
   "cell_type": "code",
   "execution_count": 61,
   "metadata": {},
   "outputs": [
    {
     "name": "stdout",
     "output_type": "stream",
     "text": [
      "[0 1 2 3 4 5]\n"
     ]
    }
   ],
   "source": [
    "f_in = open('dbscan15_labels_seq2000_3.txt', 'r')\n",
    "colors = []\n",
    "sequences = []\n",
    "for line in f_in:\n",
    "    colors.append(int(line.strip().split()[-1]))\n",
    "for record in SeqIO.parse('seq2000_3.fa', 'fasta'):\n",
    "    sequences.append(str(record.seq))\n",
    "#print(colors)\n",
    "print(np.unique(colors))\n",
    "f_in.close()"
   ]
  },
  {
   "cell_type": "code",
   "execution_count": 62,
   "metadata": {},
   "outputs": [
    {
     "name": "stdout",
     "output_type": "stream",
     "text": [
      "[[ 0  4 43 ... 44 20 81]\n",
      " [ 4  0 45 ... 46 22 82]\n",
      " [43 45  0 ... 12 53 82]\n",
      " ...\n",
      " [44 46 12 ...  0 55 80]\n",
      " [20 22 53 ... 55  0 82]\n",
      " [81 82 82 ... 80 82  0]]\n"
     ]
    }
   ],
   "source": [
    "dist_matrix = np.zeros((len(sequences), len(sequences)), dtype='int')\n",
    "for i in range(len(sequences)):\n",
    "    for j in range(i, len(sequences)):\n",
    "        dist_matrix[i, j] = edlib.align(sequences[i], sequences[j], mode='HW', task='path')['editDistance']\n",
    "dist_matrix = dist_matrix + dist_matrix.T\n",
    "print(dist_matrix)"
   ]
  },
  {
   "cell_type": "code",
   "execution_count": 63,
   "metadata": {},
   "outputs": [
    {
     "name": "stdout",
     "output_type": "stream",
     "text": [
      "295407\n"
     ]
    }
   ],
   "source": [
    "edges = np.zeros((len(sequences), len(sequences)), dtype='int')\n",
    "count = 0\n",
    "for i in range(len(sequences)):\n",
    "    for j in range(i, len(sequences)):\n",
    "        if 0 < dist_matrix[i, j] < 10:\n",
    "            edges[i, j] = dist_matrix[i, j]\n",
    "            count += 1\n",
    "print(count)"
   ]
  },
  {
   "cell_type": "code",
   "execution_count": 64,
   "metadata": {},
   "outputs": [],
   "source": [
    "f = open('graph_seq2000_3_dbscan15.graphml', 'w')\n",
    "f.write('<?xml version=\"1.0\" encoding=\"UTF-8\"?>\\n')\n",
    "f.write('<graphml xmlns=\"http://graphml.graphdrawing.org/xmlns\" xmlns:xsi=\"http://www.w3.org/2001/XMLSchema-instance\"\\n')\n",
    "f.write('xsi:schemaLocation=\"http://graphml.graphdrawing.org/xmlns http://graphml.graphdrawing.org/xmlns/1.0/graphml.xsd\">\\n')\n",
    "f.write('<key id=\"d0\" for=\"node\" attr.name=\"color\" attr.type=\"string\">\\n')\n",
    "f.write('<default>yellow</default>\\n')\n",
    "f.write('</key>\\n')\n",
    "f.write('<key id=\"d1\" for=\"edge\" attr.name=\"weight\" attr.type=\"double\"/>\\n')\n",
    "f.write('<graph id=\"G\" edgedefault=\"undirected\">\\n')\n",
    "for i in range(len(colors)):\n",
    "    f.write(f'<node id=\"n{i}\">\\n')\n",
    "    f.write(f'<data key=\"d0\">{cluster_to_color(colors[i])}</data>\\n')\n",
    "    f.write('</node>\\n')\n",
    "count = 0\n",
    "for i in range(len(sequences)):\n",
    "    for j in range(i + 1, len(sequences)):\n",
    "        if edges[i, j] > 0:\n",
    "            f.write(f'<edge id=\"e{count}\" source=\"n{i}\" target=\"n{j}\">\\n')\n",
    "            f.write(f'<data key=\"d1\">{edges[i, j]}</data>\\n')\n",
    "            f.write(f'</edge>')\n",
    "            count += 1\n",
    "f.write('</graph>\\n')\n",
    "f.write('</graphml>')\n",
    "f.close()"
   ]
  },
  {
   "cell_type": "markdown",
   "metadata": {},
   "source": [
    "#### DBSCAN 5"
   ]
  },
  {
   "cell_type": "code",
   "execution_count": 66,
   "metadata": {},
   "outputs": [
    {
     "name": "stdout",
     "output_type": "stream",
     "text": [
      "[-1  0  1  2  3  4  5  6  7  8  9 10 11 12 13 14 15 16]\n"
     ]
    }
   ],
   "source": [
    "f_in = open('dbscan5_labels_seq1000_1.txt', 'r')\n",
    "colors = []\n",
    "sequences = []\n",
    "for line in f_in:\n",
    "    colors.append(int(line.strip().split()[-1]))\n",
    "for record in SeqIO.parse('seq1000_1.fa', 'fasta'):\n",
    "    sequences.append(str(record.seq))\n",
    "#print(colors)\n",
    "print(np.unique(colors))\n",
    "f_in.close()"
   ]
  },
  {
   "cell_type": "code",
   "execution_count": 67,
   "metadata": {},
   "outputs": [
    {
     "name": "stdout",
     "output_type": "stream",
     "text": [
      "[[ 0 15 42 ... 48 42 43]\n",
      " [15  0 50 ... 56 51 51]\n",
      " [42 50  0 ... 19  2  1]\n",
      " ...\n",
      " [48 56 19 ...  0 22 21]\n",
      " [42 51  2 ... 22  0  3]\n",
      " [43 51  1 ... 21  3  0]]\n"
     ]
    }
   ],
   "source": [
    "dist_matrix = np.zeros((len(sequences), len(sequences)), dtype='int')\n",
    "for i in range(len(sequences)):\n",
    "    for j in range(i, len(sequences)):\n",
    "        dist_matrix[i, j] = edlib.align(sequences[i], sequences[j], mode='HW', task='path')['editDistance']\n",
    "dist_matrix = dist_matrix + dist_matrix.T\n",
    "print(dist_matrix)"
   ]
  },
  {
   "cell_type": "code",
   "execution_count": 68,
   "metadata": {},
   "outputs": [
    {
     "name": "stdout",
     "output_type": "stream",
     "text": [
      "79860\n"
     ]
    }
   ],
   "source": [
    "edges = np.zeros((len(sequences), len(sequences)), dtype='int')\n",
    "count = 0\n",
    "for i in range(len(sequences)):\n",
    "    for j in range(i, len(sequences)):\n",
    "        if 0 < dist_matrix[i, j] < 10:\n",
    "            edges[i, j] = dist_matrix[i, j]\n",
    "            count += 1\n",
    "print(count)"
   ]
  },
  {
   "cell_type": "code",
   "execution_count": 69,
   "metadata": {},
   "outputs": [],
   "source": [
    "f = open('graph_seq1000_1_dbscan5.graphml', 'w')\n",
    "f.write('<?xml version=\"1.0\" encoding=\"UTF-8\"?>\\n')\n",
    "f.write('<graphml xmlns=\"http://graphml.graphdrawing.org/xmlns\" xmlns:xsi=\"http://www.w3.org/2001/XMLSchema-instance\"\\n')\n",
    "f.write('xsi:schemaLocation=\"http://graphml.graphdrawing.org/xmlns http://graphml.graphdrawing.org/xmlns/1.0/graphml.xsd\">\\n')\n",
    "f.write('<key id=\"d0\" for=\"node\" attr.name=\"color\" attr.type=\"string\">\\n')\n",
    "f.write('<default>yellow</default>\\n')\n",
    "f.write('</key>\\n')\n",
    "f.write('<key id=\"d1\" for=\"edge\" attr.name=\"weight\" attr.type=\"double\"/>\\n')\n",
    "f.write('<graph id=\"G\" edgedefault=\"undirected\">\\n')\n",
    "for i in range(len(colors)):\n",
    "    f.write(f'<node id=\"n{i}\">\\n')\n",
    "    f.write(f'<data key=\"d0\">{cluster_to_color(colors[i])}</data>\\n')\n",
    "    f.write('</node>\\n')\n",
    "count = 0\n",
    "for i in range(len(sequences)):\n",
    "    for j in range(i + 1, len(sequences)):\n",
    "        if edges[i, j] > 0:\n",
    "            f.write(f'<edge id=\"e{count}\" source=\"n{i}\" target=\"n{j}\">\\n')\n",
    "            f.write(f'<data key=\"d1\">{edges[i, j]}</data>\\n')\n",
    "            f.write(f'</edge>')\n",
    "            count += 1\n",
    "f.write('</graph>\\n')\n",
    "f.write('</graphml>')\n",
    "f.close()"
   ]
  },
  {
   "cell_type": "code",
   "execution_count": null,
   "metadata": {},
   "outputs": [],
   "source": []
  },
  {
   "cell_type": "code",
   "execution_count": 71,
   "metadata": {},
   "outputs": [
    {
     "name": "stdout",
     "output_type": "stream",
     "text": [
      "[-1  0  1  2  3  4  5  6  7  8  9 10 11 12 13 14]\n"
     ]
    }
   ],
   "source": [
    "f_in = open('dbscan5_labels_seq2000_1.txt', 'r')\n",
    "colors = []\n",
    "sequences = []\n",
    "for line in f_in:\n",
    "    colors.append(int(line.strip().split()[-1]))\n",
    "for record in SeqIO.parse('seq2000_1.fa', 'fasta'):\n",
    "    sequences.append(str(record.seq))\n",
    "#print(colors)\n",
    "print(np.unique(colors))\n",
    "f_in.close()"
   ]
  },
  {
   "cell_type": "code",
   "execution_count": 72,
   "metadata": {},
   "outputs": [
    {
     "name": "stdout",
     "output_type": "stream",
     "text": [
      "[[ 0 45 15 ... 79  8 79]\n",
      " [45  0 52 ... 81 49 82]\n",
      " [15 52  0 ... 85 17 83]\n",
      " ...\n",
      " [79 81 85 ...  0 84 44]\n",
      " [ 8 49 17 ... 84  0 81]\n",
      " [79 82 83 ... 44 81  0]]\n"
     ]
    }
   ],
   "source": [
    "dist_matrix = np.zeros((len(sequences), len(sequences)), dtype='int')\n",
    "for i in range(len(sequences)):\n",
    "    for j in range(i, len(sequences)):\n",
    "        dist_matrix[i, j] = edlib.align(sequences[i], sequences[j], mode='HW', task='path')['editDistance']\n",
    "dist_matrix = dist_matrix + dist_matrix.T\n",
    "print(dist_matrix)"
   ]
  },
  {
   "cell_type": "code",
   "execution_count": 73,
   "metadata": {},
   "outputs": [
    {
     "name": "stdout",
     "output_type": "stream",
     "text": [
      "288689\n"
     ]
    }
   ],
   "source": [
    "edges = np.zeros((len(sequences), len(sequences)), dtype='int')\n",
    "count = 0\n",
    "for i in range(len(sequences)):\n",
    "    for j in range(i, len(sequences)):\n",
    "        if 0 < dist_matrix[i, j] < 10:\n",
    "            edges[i, j] = dist_matrix[i, j]\n",
    "            count += 1\n",
    "print(count)"
   ]
  },
  {
   "cell_type": "code",
   "execution_count": 74,
   "metadata": {},
   "outputs": [],
   "source": [
    "f = open('graph_seq2000_1_dbscan5.graphml', 'w')\n",
    "f.write('<?xml version=\"1.0\" encoding=\"UTF-8\"?>\\n')\n",
    "f.write('<graphml xmlns=\"http://graphml.graphdrawing.org/xmlns\" xmlns:xsi=\"http://www.w3.org/2001/XMLSchema-instance\"\\n')\n",
    "f.write('xsi:schemaLocation=\"http://graphml.graphdrawing.org/xmlns http://graphml.graphdrawing.org/xmlns/1.0/graphml.xsd\">\\n')\n",
    "f.write('<key id=\"d0\" for=\"node\" attr.name=\"color\" attr.type=\"string\">\\n')\n",
    "f.write('<default>yellow</default>\\n')\n",
    "f.write('</key>\\n')\n",
    "f.write('<key id=\"d1\" for=\"edge\" attr.name=\"weight\" attr.type=\"double\"/>\\n')\n",
    "f.write('<graph id=\"G\" edgedefault=\"undirected\">\\n')\n",
    "for i in range(len(colors)):\n",
    "    f.write(f'<node id=\"n{i}\">\\n')\n",
    "    f.write(f'<data key=\"d0\">{cluster_to_color(colors[i])}</data>\\n')\n",
    "    f.write('</node>\\n')\n",
    "count = 0\n",
    "for i in range(len(sequences)):\n",
    "    for j in range(i + 1, len(sequences)):\n",
    "        if edges[i, j] > 0:\n",
    "            f.write(f'<edge id=\"e{count}\" source=\"n{i}\" target=\"n{j}\">\\n')\n",
    "            f.write(f'<data key=\"d1\">{edges[i, j]}</data>\\n')\n",
    "            f.write(f'</edge>')\n",
    "            count += 1\n",
    "f.write('</graph>\\n')\n",
    "f.write('</graphml>')\n",
    "f.close()"
   ]
  },
  {
   "cell_type": "code",
   "execution_count": null,
   "metadata": {},
   "outputs": [],
   "source": []
  },
  {
   "cell_type": "code",
   "execution_count": 76,
   "metadata": {},
   "outputs": [
    {
     "name": "stdout",
     "output_type": "stream",
     "text": [
      "[-1  0  1  2  3  4  5  6  7  8  9 10 11 12 13 14 15]\n"
     ]
    }
   ],
   "source": [
    "f_in = open('dbscan5_labels_seq2000_2.txt', 'r')\n",
    "colors = []\n",
    "sequences = []\n",
    "for line in f_in:\n",
    "    colors.append(int(line.strip().split()[-1]))\n",
    "for record in SeqIO.parse('seq2000_2.fa', 'fasta'):\n",
    "    sequences.append(str(record.seq))\n",
    "#print(colors)\n",
    "print(np.unique(colors))\n",
    "f_in.close()"
   ]
  },
  {
   "cell_type": "code",
   "execution_count": 77,
   "metadata": {},
   "outputs": [
    {
     "name": "stdout",
     "output_type": "stream",
     "text": [
      "[[ 0 80 25 ... 53 16 80]\n",
      " [80  0 83 ... 81 85 10]\n",
      " [25 83  0 ... 56 18 82]\n",
      " ...\n",
      " [53 81 56 ...  0 48 82]\n",
      " [16 85 18 ... 48  0 84]\n",
      " [80 10 82 ... 82 84  0]]\n"
     ]
    }
   ],
   "source": [
    "dist_matrix = np.zeros((len(sequences), len(sequences)), dtype='int')\n",
    "for i in range(len(sequences)):\n",
    "    for j in range(i, len(sequences)):\n",
    "        dist_matrix[i, j] = edlib.align(sequences[i], sequences[j], mode='HW', task='path')['editDistance']\n",
    "dist_matrix = dist_matrix + dist_matrix.T\n",
    "print(dist_matrix)"
   ]
  },
  {
   "cell_type": "code",
   "execution_count": 78,
   "metadata": {},
   "outputs": [
    {
     "name": "stdout",
     "output_type": "stream",
     "text": [
      "263097\n"
     ]
    }
   ],
   "source": [
    "edges = np.zeros((len(sequences), len(sequences)), dtype='int')\n",
    "count = 0\n",
    "for i in range(len(sequences)):\n",
    "    for j in range(i, len(sequences)):\n",
    "        if 0 < dist_matrix[i, j] < 10:\n",
    "            edges[i, j] = dist_matrix[i, j]\n",
    "            count += 1\n",
    "print(count)"
   ]
  },
  {
   "cell_type": "code",
   "execution_count": 79,
   "metadata": {},
   "outputs": [],
   "source": [
    "f = open('graph_seq2000_2_dbscan5.graphml', 'w')\n",
    "f.write('<?xml version=\"1.0\" encoding=\"UTF-8\"?>\\n')\n",
    "f.write('<graphml xmlns=\"http://graphml.graphdrawing.org/xmlns\" xmlns:xsi=\"http://www.w3.org/2001/XMLSchema-instance\"\\n')\n",
    "f.write('xsi:schemaLocation=\"http://graphml.graphdrawing.org/xmlns http://graphml.graphdrawing.org/xmlns/1.0/graphml.xsd\">\\n')\n",
    "f.write('<key id=\"d0\" for=\"node\" attr.name=\"color\" attr.type=\"string\">\\n')\n",
    "f.write('<default>yellow</default>\\n')\n",
    "f.write('</key>\\n')\n",
    "f.write('<key id=\"d1\" for=\"edge\" attr.name=\"weight\" attr.type=\"double\"/>\\n')\n",
    "f.write('<graph id=\"G\" edgedefault=\"undirected\">\\n')\n",
    "for i in range(len(colors)):\n",
    "    f.write(f'<node id=\"n{i}\">\\n')\n",
    "    f.write(f'<data key=\"d0\">{cluster_to_color(colors[i])}</data>\\n')\n",
    "    f.write('</node>\\n')\n",
    "count = 0\n",
    "for i in range(len(sequences)):\n",
    "    for j in range(i + 1, len(sequences)):\n",
    "        if edges[i, j] > 0:\n",
    "            f.write(f'<edge id=\"e{count}\" source=\"n{i}\" target=\"n{j}\">\\n')\n",
    "            f.write(f'<data key=\"d1\">{edges[i, j]}</data>\\n')\n",
    "            f.write(f'</edge>')\n",
    "            count += 1\n",
    "f.write('</graph>\\n')\n",
    "f.write('</graphml>')\n",
    "f.close()"
   ]
  },
  {
   "cell_type": "code",
   "execution_count": null,
   "metadata": {},
   "outputs": [],
   "source": []
  },
  {
   "cell_type": "code",
   "execution_count": 81,
   "metadata": {},
   "outputs": [
    {
     "name": "stdout",
     "output_type": "stream",
     "text": [
      "[-1  0  1  2  3  4  5  6  7  8  9 10 11 12 13]\n"
     ]
    }
   ],
   "source": [
    "f_in = open('dbscan5_labels_seq2000_3.txt', 'r')\n",
    "colors = []\n",
    "sequences = []\n",
    "for line in f_in:\n",
    "    colors.append(int(line.strip().split()[-1]))\n",
    "for record in SeqIO.parse('seq2000_3.fa', 'fasta'):\n",
    "    sequences.append(str(record.seq))\n",
    "#print(colors)\n",
    "print(np.unique(colors))\n",
    "f_in.close()"
   ]
  },
  {
   "cell_type": "code",
   "execution_count": 82,
   "metadata": {},
   "outputs": [
    {
     "name": "stdout",
     "output_type": "stream",
     "text": [
      "[[ 0  4 43 ... 44 20 81]\n",
      " [ 4  0 45 ... 46 22 82]\n",
      " [43 45  0 ... 12 53 82]\n",
      " ...\n",
      " [44 46 12 ...  0 55 80]\n",
      " [20 22 53 ... 55  0 82]\n",
      " [81 82 82 ... 80 82  0]]\n"
     ]
    }
   ],
   "source": [
    "dist_matrix = np.zeros((len(sequences), len(sequences)), dtype='int')\n",
    "for i in range(len(sequences)):\n",
    "    for j in range(i, len(sequences)):\n",
    "        dist_matrix[i, j] = edlib.align(sequences[i], sequences[j], mode='HW', task='path')['editDistance']\n",
    "dist_matrix = dist_matrix + dist_matrix.T\n",
    "print(dist_matrix)"
   ]
  },
  {
   "cell_type": "code",
   "execution_count": 83,
   "metadata": {},
   "outputs": [
    {
     "name": "stdout",
     "output_type": "stream",
     "text": [
      "295407\n"
     ]
    }
   ],
   "source": [
    "edges = np.zeros((len(sequences), len(sequences)), dtype='int')\n",
    "count = 0\n",
    "for i in range(len(sequences)):\n",
    "    for j in range(i, len(sequences)):\n",
    "        if 0 < dist_matrix[i, j] < 10:\n",
    "            edges[i, j] = dist_matrix[i, j]\n",
    "            count += 1\n",
    "print(count)"
   ]
  },
  {
   "cell_type": "code",
   "execution_count": 84,
   "metadata": {},
   "outputs": [],
   "source": [
    "f = open('graph_seq2000_3_dbscan5.graphml', 'w')\n",
    "f.write('<?xml version=\"1.0\" encoding=\"UTF-8\"?>\\n')\n",
    "f.write('<graphml xmlns=\"http://graphml.graphdrawing.org/xmlns\" xmlns:xsi=\"http://www.w3.org/2001/XMLSchema-instance\"\\n')\n",
    "f.write('xsi:schemaLocation=\"http://graphml.graphdrawing.org/xmlns http://graphml.graphdrawing.org/xmlns/1.0/graphml.xsd\">\\n')\n",
    "f.write('<key id=\"d0\" for=\"node\" attr.name=\"color\" attr.type=\"string\">\\n')\n",
    "f.write('<default>yellow</default>\\n')\n",
    "f.write('</key>\\n')\n",
    "f.write('<key id=\"d1\" for=\"edge\" attr.name=\"weight\" attr.type=\"double\"/>\\n')\n",
    "f.write('<graph id=\"G\" edgedefault=\"undirected\">\\n')\n",
    "for i in range(len(colors)):\n",
    "    f.write(f'<node id=\"n{i}\">\\n')\n",
    "    f.write(f'<data key=\"d0\">{cluster_to_color(colors[i])}</data>\\n')\n",
    "    f.write('</node>\\n')\n",
    "count = 0\n",
    "for i in range(len(sequences)):\n",
    "    for j in range(i + 1, len(sequences)):\n",
    "        if edges[i, j] > 0:\n",
    "            f.write(f'<edge id=\"e{count}\" source=\"n{i}\" target=\"n{j}\">\\n')\n",
    "            f.write(f'<data key=\"d1\">{edges[i, j]}</data>\\n')\n",
    "            f.write(f'</edge>')\n",
    "            count += 1\n",
    "f.write('</graph>\\n')\n",
    "f.write('</graphml>')\n",
    "f.close()"
   ]
  },
  {
   "cell_type": "markdown",
   "metadata": {},
   "source": [
    "### Affinity prop"
   ]
  },
  {
   "cell_type": "code",
   "execution_count": 96,
   "metadata": {},
   "outputs": [
    {
     "name": "stdout",
     "output_type": "stream",
     "text": [
      "[0 1 2 3 4 5]\n"
     ]
    }
   ],
   "source": [
    "f_in = open('affinity_labels_seq1000_1.txt', 'r')\n",
    "colors = []\n",
    "sequences = []\n",
    "for line in f_in:\n",
    "    colors.append(int(line.strip().split()[-1]))\n",
    "for record in SeqIO.parse('seq1000_1.fa', 'fasta'):\n",
    "    sequences.append(str(record.seq))\n",
    "#print(colors)\n",
    "print(np.unique(colors))\n",
    "f_in.close()"
   ]
  },
  {
   "cell_type": "code",
   "execution_count": 97,
   "metadata": {},
   "outputs": [
    {
     "name": "stdout",
     "output_type": "stream",
     "text": [
      "[[ 0 15 42 ... 48 42 43]\n",
      " [15  0 50 ... 56 51 51]\n",
      " [42 50  0 ... 19  2  1]\n",
      " ...\n",
      " [48 56 19 ...  0 22 21]\n",
      " [42 51  2 ... 22  0  3]\n",
      " [43 51  1 ... 21  3  0]]\n"
     ]
    }
   ],
   "source": [
    "dist_matrix = np.zeros((len(sequences), len(sequences)), dtype='int')\n",
    "for i in range(len(sequences)):\n",
    "    for j in range(i, len(sequences)):\n",
    "        dist_matrix[i, j] = edlib.align(sequences[i], sequences[j], mode='HW', task='path')['editDistance']\n",
    "dist_matrix = dist_matrix + dist_matrix.T\n",
    "print(dist_matrix)"
   ]
  },
  {
   "cell_type": "code",
   "execution_count": 98,
   "metadata": {},
   "outputs": [
    {
     "name": "stdout",
     "output_type": "stream",
     "text": [
      "79860\n"
     ]
    }
   ],
   "source": [
    "edges = np.zeros((len(sequences), len(sequences)), dtype='int')\n",
    "count = 0\n",
    "for i in range(len(sequences)):\n",
    "    for j in range(i, len(sequences)):\n",
    "        if 0 < dist_matrix[i, j] < 10:\n",
    "            edges[i, j] = dist_matrix[i, j]\n",
    "            count += 1\n",
    "print(count)"
   ]
  },
  {
   "cell_type": "code",
   "execution_count": 99,
   "metadata": {},
   "outputs": [],
   "source": [
    "f = open('graph_seq1000_1_affinity.graphml', 'w')\n",
    "f.write('<?xml version=\"1.0\" encoding=\"UTF-8\"?>\\n')\n",
    "f.write('<graphml xmlns=\"http://graphml.graphdrawing.org/xmlns\" xmlns:xsi=\"http://www.w3.org/2001/XMLSchema-instance\"\\n')\n",
    "f.write('xsi:schemaLocation=\"http://graphml.graphdrawing.org/xmlns http://graphml.graphdrawing.org/xmlns/1.0/graphml.xsd\">\\n')\n",
    "f.write('<key id=\"d0\" for=\"node\" attr.name=\"color\" attr.type=\"string\">\\n')\n",
    "f.write('<default>yellow</default>\\n')\n",
    "f.write('</key>\\n')\n",
    "f.write('<key id=\"d1\" for=\"edge\" attr.name=\"weight\" attr.type=\"double\"/>\\n')\n",
    "f.write('<graph id=\"G\" edgedefault=\"undirected\">\\n')\n",
    "for i in range(len(colors)):\n",
    "    f.write(f'<node id=\"n{i}\">\\n')\n",
    "    f.write(f'<data key=\"d0\">{cluster_to_color(colors[i])}</data>\\n')\n",
    "    f.write('</node>\\n')\n",
    "count = 0\n",
    "for i in range(len(sequences)):\n",
    "    for j in range(i + 1, len(sequences)):\n",
    "        if edges[i, j] > 0:\n",
    "            f.write(f'<edge id=\"e{count}\" source=\"n{i}\" target=\"n{j}\">\\n')\n",
    "            f.write(f'<data key=\"d1\">{edges[i, j]}</data>\\n')\n",
    "            f.write(f'</edge>')\n",
    "            count += 1\n",
    "f.write('</graph>\\n')\n",
    "f.write('</graphml>')\n",
    "f.close()"
   ]
  },
  {
   "cell_type": "code",
   "execution_count": null,
   "metadata": {},
   "outputs": [],
   "source": []
  },
  {
   "cell_type": "code",
   "execution_count": 100,
   "metadata": {},
   "outputs": [
    {
     "name": "stdout",
     "output_type": "stream",
     "text": [
      "[0 1 2 3 4 5 6 7]\n"
     ]
    }
   ],
   "source": [
    "f_in = open('affinity_labels_seq2000_1.txt', 'r')\n",
    "colors = []\n",
    "sequences = []\n",
    "for line in f_in:\n",
    "    colors.append(int(line.strip().split()[-1]))\n",
    "for record in SeqIO.parse('seq2000_1.fa', 'fasta'):\n",
    "    sequences.append(str(record.seq))\n",
    "#print(colors)\n",
    "print(np.unique(colors))\n",
    "f_in.close()"
   ]
  },
  {
   "cell_type": "code",
   "execution_count": 101,
   "metadata": {},
   "outputs": [
    {
     "name": "stdout",
     "output_type": "stream",
     "text": [
      "[[ 0 45 15 ... 79  8 79]\n",
      " [45  0 52 ... 81 49 82]\n",
      " [15 52  0 ... 85 17 83]\n",
      " ...\n",
      " [79 81 85 ...  0 84 44]\n",
      " [ 8 49 17 ... 84  0 81]\n",
      " [79 82 83 ... 44 81  0]]\n"
     ]
    }
   ],
   "source": [
    "dist_matrix = np.zeros((len(sequences), len(sequences)), dtype='int')\n",
    "for i in range(len(sequences)):\n",
    "    for j in range(i, len(sequences)):\n",
    "        dist_matrix[i, j] = edlib.align(sequences[i], sequences[j], mode='HW', task='path')['editDistance']\n",
    "dist_matrix = dist_matrix + dist_matrix.T\n",
    "print(dist_matrix)"
   ]
  },
  {
   "cell_type": "code",
   "execution_count": 102,
   "metadata": {},
   "outputs": [
    {
     "name": "stdout",
     "output_type": "stream",
     "text": [
      "288689\n"
     ]
    }
   ],
   "source": [
    "edges = np.zeros((len(sequences), len(sequences)), dtype='int')\n",
    "count = 0\n",
    "for i in range(len(sequences)):\n",
    "    for j in range(i, len(sequences)):\n",
    "        if 0 < dist_matrix[i, j] < 10:\n",
    "            edges[i, j] = dist_matrix[i, j]\n",
    "            count += 1\n",
    "print(count)"
   ]
  },
  {
   "cell_type": "code",
   "execution_count": 103,
   "metadata": {},
   "outputs": [],
   "source": [
    "f = open('graph_seq2000_1_affinity.graphml', 'w')\n",
    "f.write('<?xml version=\"1.0\" encoding=\"UTF-8\"?>\\n')\n",
    "f.write('<graphml xmlns=\"http://graphml.graphdrawing.org/xmlns\" xmlns:xsi=\"http://www.w3.org/2001/XMLSchema-instance\"\\n')\n",
    "f.write('xsi:schemaLocation=\"http://graphml.graphdrawing.org/xmlns http://graphml.graphdrawing.org/xmlns/1.0/graphml.xsd\">\\n')\n",
    "f.write('<key id=\"d0\" for=\"node\" attr.name=\"color\" attr.type=\"string\">\\n')\n",
    "f.write('<default>yellow</default>\\n')\n",
    "f.write('</key>\\n')\n",
    "f.write('<key id=\"d1\" for=\"edge\" attr.name=\"weight\" attr.type=\"double\"/>\\n')\n",
    "f.write('<graph id=\"G\" edgedefault=\"undirected\">\\n')\n",
    "for i in range(len(colors)):\n",
    "    f.write(f'<node id=\"n{i}\">\\n')\n",
    "    f.write(f'<data key=\"d0\">{cluster_to_color(colors[i])}</data>\\n')\n",
    "    f.write('</node>\\n')\n",
    "count = 0\n",
    "for i in range(len(sequences)):\n",
    "    for j in range(i + 1, len(sequences)):\n",
    "        if edges[i, j] > 0:\n",
    "            f.write(f'<edge id=\"e{count}\" source=\"n{i}\" target=\"n{j}\">\\n')\n",
    "            f.write(f'<data key=\"d1\">{edges[i, j]}</data>\\n')\n",
    "            f.write(f'</edge>')\n",
    "            count += 1\n",
    "f.write('</graph>\\n')\n",
    "f.write('</graphml>')\n",
    "f.close()"
   ]
  },
  {
   "cell_type": "code",
   "execution_count": null,
   "metadata": {},
   "outputs": [],
   "source": []
  },
  {
   "cell_type": "code",
   "execution_count": 104,
   "metadata": {},
   "outputs": [
    {
     "name": "stdout",
     "output_type": "stream",
     "text": [
      "[0 1 2 3 4 5 6 7 8 9]\n"
     ]
    }
   ],
   "source": [
    "f_in = open('affinity_labels_seq2000_2.txt', 'r')\n",
    "colors = []\n",
    "sequences = []\n",
    "for line in f_in:\n",
    "    colors.append(int(line.strip().split()[-1]))\n",
    "for record in SeqIO.parse('seq2000_2.fa', 'fasta'):\n",
    "    sequences.append(str(record.seq))\n",
    "#print(colors)\n",
    "print(np.unique(colors))\n",
    "f_in.close()"
   ]
  },
  {
   "cell_type": "code",
   "execution_count": 105,
   "metadata": {},
   "outputs": [
    {
     "name": "stdout",
     "output_type": "stream",
     "text": [
      "[[ 0 80 25 ... 53 16 80]\n",
      " [80  0 83 ... 81 85 10]\n",
      " [25 83  0 ... 56 18 82]\n",
      " ...\n",
      " [53 81 56 ...  0 48 82]\n",
      " [16 85 18 ... 48  0 84]\n",
      " [80 10 82 ... 82 84  0]]\n"
     ]
    }
   ],
   "source": [
    "dist_matrix = np.zeros((len(sequences), len(sequences)), dtype='int')\n",
    "for i in range(len(sequences)):\n",
    "    for j in range(i, len(sequences)):\n",
    "        dist_matrix[i, j] = edlib.align(sequences[i], sequences[j], mode='HW', task='path')['editDistance']\n",
    "dist_matrix = dist_matrix + dist_matrix.T\n",
    "print(dist_matrix)"
   ]
  },
  {
   "cell_type": "code",
   "execution_count": 106,
   "metadata": {},
   "outputs": [
    {
     "name": "stdout",
     "output_type": "stream",
     "text": [
      "263097\n"
     ]
    }
   ],
   "source": [
    "edges = np.zeros((len(sequences), len(sequences)), dtype='int')\n",
    "count = 0\n",
    "for i in range(len(sequences)):\n",
    "    for j in range(i, len(sequences)):\n",
    "        if 0 < dist_matrix[i, j] < 10:\n",
    "            edges[i, j] = dist_matrix[i, j]\n",
    "            count += 1\n",
    "print(count)"
   ]
  },
  {
   "cell_type": "code",
   "execution_count": 107,
   "metadata": {},
   "outputs": [],
   "source": [
    "f = open('graph_seq2000_2_affinity.graphml', 'w')\n",
    "f.write('<?xml version=\"1.0\" encoding=\"UTF-8\"?>\\n')\n",
    "f.write('<graphml xmlns=\"http://graphml.graphdrawing.org/xmlns\" xmlns:xsi=\"http://www.w3.org/2001/XMLSchema-instance\"\\n')\n",
    "f.write('xsi:schemaLocation=\"http://graphml.graphdrawing.org/xmlns http://graphml.graphdrawing.org/xmlns/1.0/graphml.xsd\">\\n')\n",
    "f.write('<key id=\"d0\" for=\"node\" attr.name=\"color\" attr.type=\"string\">\\n')\n",
    "f.write('<default>yellow</default>\\n')\n",
    "f.write('</key>\\n')\n",
    "f.write('<key id=\"d1\" for=\"edge\" attr.name=\"weight\" attr.type=\"double\"/>\\n')\n",
    "f.write('<graph id=\"G\" edgedefault=\"undirected\">\\n')\n",
    "for i in range(len(colors)):\n",
    "    f.write(f'<node id=\"n{i}\">\\n')\n",
    "    f.write(f'<data key=\"d0\">{cluster_to_color(colors[i])}</data>\\n')\n",
    "    f.write('</node>\\n')\n",
    "count = 0\n",
    "for i in range(len(sequences)):\n",
    "    for j in range(i + 1, len(sequences)):\n",
    "        if edges[i, j] > 0:\n",
    "            f.write(f'<edge id=\"e{count}\" source=\"n{i}\" target=\"n{j}\">\\n')\n",
    "            f.write(f'<data key=\"d1\">{edges[i, j]}</data>\\n')\n",
    "            f.write(f'</edge>')\n",
    "            count += 1\n",
    "f.write('</graph>\\n')\n",
    "f.write('</graphml>')\n",
    "f.close()"
   ]
  },
  {
   "cell_type": "code",
   "execution_count": null,
   "metadata": {},
   "outputs": [],
   "source": []
  },
  {
   "cell_type": "code",
   "execution_count": 109,
   "metadata": {},
   "outputs": [
    {
     "name": "stdout",
     "output_type": "stream",
     "text": [
      "[0 1 2 3 4 5 6 7]\n"
     ]
    }
   ],
   "source": [
    "f_in = open('affinity_labels_seq2000_3.txt', 'r')\n",
    "colors = []\n",
    "sequences = []\n",
    "for line in f_in:\n",
    "    colors.append(int(line.strip().split()[-1]))\n",
    "for record in SeqIO.parse('seq2000_3.fa', 'fasta'):\n",
    "    sequences.append(str(record.seq))\n",
    "#print(colors)\n",
    "print(np.unique(colors))\n",
    "f_in.close()"
   ]
  },
  {
   "cell_type": "code",
   "execution_count": 110,
   "metadata": {},
   "outputs": [
    {
     "name": "stdout",
     "output_type": "stream",
     "text": [
      "[[ 0  4 43 ... 44 20 81]\n",
      " [ 4  0 45 ... 46 22 82]\n",
      " [43 45  0 ... 12 53 82]\n",
      " ...\n",
      " [44 46 12 ...  0 55 80]\n",
      " [20 22 53 ... 55  0 82]\n",
      " [81 82 82 ... 80 82  0]]\n"
     ]
    }
   ],
   "source": [
    "dist_matrix = np.zeros((len(sequences), len(sequences)), dtype='int')\n",
    "for i in range(len(sequences)):\n",
    "    for j in range(i, len(sequences)):\n",
    "        dist_matrix[i, j] = edlib.align(sequences[i], sequences[j], mode='HW', task='path')['editDistance']\n",
    "dist_matrix = dist_matrix + dist_matrix.T\n",
    "print(dist_matrix)"
   ]
  },
  {
   "cell_type": "code",
   "execution_count": 111,
   "metadata": {},
   "outputs": [
    {
     "name": "stdout",
     "output_type": "stream",
     "text": [
      "295407\n"
     ]
    }
   ],
   "source": [
    "edges = np.zeros((len(sequences), len(sequences)), dtype='int')\n",
    "count = 0\n",
    "for i in range(len(sequences)):\n",
    "    for j in range(i, len(sequences)):\n",
    "        if 0 < dist_matrix[i, j] < 10:\n",
    "            edges[i, j] = dist_matrix[i, j]\n",
    "            count += 1\n",
    "print(count)"
   ]
  },
  {
   "cell_type": "code",
   "execution_count": 112,
   "metadata": {},
   "outputs": [],
   "source": [
    "f = open('graph_seq2000_3_affinity.graphml', 'w')\n",
    "f.write('<?xml version=\"1.0\" encoding=\"UTF-8\"?>\\n')\n",
    "f.write('<graphml xmlns=\"http://graphml.graphdrawing.org/xmlns\" xmlns:xsi=\"http://www.w3.org/2001/XMLSchema-instance\"\\n')\n",
    "f.write('xsi:schemaLocation=\"http://graphml.graphdrawing.org/xmlns http://graphml.graphdrawing.org/xmlns/1.0/graphml.xsd\">\\n')\n",
    "f.write('<key id=\"d0\" for=\"node\" attr.name=\"color\" attr.type=\"string\">\\n')\n",
    "f.write('<default>yellow</default>\\n')\n",
    "f.write('</key>\\n')\n",
    "f.write('<key id=\"d1\" for=\"edge\" attr.name=\"weight\" attr.type=\"double\"/>\\n')\n",
    "f.write('<graph id=\"G\" edgedefault=\"undirected\">\\n')\n",
    "for i in range(len(colors)):\n",
    "    f.write(f'<node id=\"n{i}\">\\n')\n",
    "    f.write(f'<data key=\"d0\">{cluster_to_color(colors[i])}</data>\\n')\n",
    "    f.write('</node>\\n')\n",
    "count = 0\n",
    "for i in range(len(sequences)):\n",
    "    for j in range(i + 1, len(sequences)):\n",
    "        if edges[i, j] > 0:\n",
    "            f.write(f'<edge id=\"e{count}\" source=\"n{i}\" target=\"n{j}\">\\n')\n",
    "            f.write(f'<data key=\"d1\">{edges[i, j]}</data>\\n')\n",
    "            f.write(f'</edge>')\n",
    "            count += 1\n",
    "f.write('</graph>\\n')\n",
    "f.write('</graphml>')\n",
    "f.close()"
   ]
  },
  {
   "cell_type": "code",
   "execution_count": null,
   "metadata": {},
   "outputs": [],
   "source": []
  },
  {
   "cell_type": "markdown",
   "metadata": {},
   "source": [
    "### Уральский"
   ]
  },
  {
   "cell_type": "code",
   "execution_count": 113,
   "metadata": {},
   "outputs": [
    {
     "name": "stdout",
     "output_type": "stream",
     "text": [
      "[0 1 2 3 4 5]\n"
     ]
    }
   ],
   "source": [
    "f_in = open('ur_centr_seq1000_1.txt', 'r')\n",
    "colors = []\n",
    "sequences = []\n",
    "for line in f_in:\n",
    "    colors.append(int(line.strip().split()[-1]))\n",
    "for record in SeqIO.parse('seq1000_1.fa', 'fasta'):\n",
    "    sequences.append(str(record.seq))\n",
    "#print(colors)\n",
    "print(np.unique(colors))\n",
    "f_in.close()"
   ]
  },
  {
   "cell_type": "code",
   "execution_count": 114,
   "metadata": {},
   "outputs": [
    {
     "name": "stdout",
     "output_type": "stream",
     "text": [
      "[[ 0 15 42 ... 48 42 43]\n",
      " [15  0 50 ... 56 51 51]\n",
      " [42 50  0 ... 19  2  1]\n",
      " ...\n",
      " [48 56 19 ...  0 22 21]\n",
      " [42 51  2 ... 22  0  3]\n",
      " [43 51  1 ... 21  3  0]]\n"
     ]
    }
   ],
   "source": [
    "dist_matrix = np.zeros((len(sequences), len(sequences)), dtype='int')\n",
    "for i in range(len(sequences)):\n",
    "    for j in range(i, len(sequences)):\n",
    "        dist_matrix[i, j] = edlib.align(sequences[i], sequences[j], mode='HW', task='path')['editDistance']\n",
    "dist_matrix = dist_matrix + dist_matrix.T\n",
    "print(dist_matrix)"
   ]
  },
  {
   "cell_type": "code",
   "execution_count": 115,
   "metadata": {},
   "outputs": [
    {
     "name": "stdout",
     "output_type": "stream",
     "text": [
      "79860\n"
     ]
    }
   ],
   "source": [
    "edges = np.zeros((len(sequences), len(sequences)), dtype='int')\n",
    "count = 0\n",
    "for i in range(len(sequences)):\n",
    "    for j in range(i, len(sequences)):\n",
    "        if 0 < dist_matrix[i, j] < 10:\n",
    "            edges[i, j] = dist_matrix[i, j]\n",
    "            count += 1\n",
    "print(count)"
   ]
  },
  {
   "cell_type": "code",
   "execution_count": 116,
   "metadata": {},
   "outputs": [],
   "source": [
    "f = open('graph_seq1000_1_ur.graphml', 'w')\n",
    "f.write('<?xml version=\"1.0\" encoding=\"UTF-8\"?>\\n')\n",
    "f.write('<graphml xmlns=\"http://graphml.graphdrawing.org/xmlns\" xmlns:xsi=\"http://www.w3.org/2001/XMLSchema-instance\"\\n')\n",
    "f.write('xsi:schemaLocation=\"http://graphml.graphdrawing.org/xmlns http://graphml.graphdrawing.org/xmlns/1.0/graphml.xsd\">\\n')\n",
    "f.write('<key id=\"d0\" for=\"node\" attr.name=\"color\" attr.type=\"string\">\\n')\n",
    "f.write('<default>yellow</default>\\n')\n",
    "f.write('</key>\\n')\n",
    "f.write('<key id=\"d1\" for=\"edge\" attr.name=\"weight\" attr.type=\"double\"/>\\n')\n",
    "f.write('<graph id=\"G\" edgedefault=\"undirected\">\\n')\n",
    "for i in range(len(colors)):\n",
    "    f.write(f'<node id=\"n{i}\">\\n')\n",
    "    f.write(f'<data key=\"d0\">{cluster_to_color(colors[i])}</data>\\n')\n",
    "    f.write('</node>\\n')\n",
    "count = 0\n",
    "for i in range(len(sequences)):\n",
    "    for j in range(i + 1, len(sequences)):\n",
    "        if edges[i, j] > 0:\n",
    "            f.write(f'<edge id=\"e{count}\" source=\"n{i}\" target=\"n{j}\">\\n')\n",
    "            f.write(f'<data key=\"d1\">{edges[i, j]}</data>\\n')\n",
    "            f.write(f'</edge>')\n",
    "            count += 1\n",
    "f.write('</graph>\\n')\n",
    "f.write('</graphml>')\n",
    "f.close()"
   ]
  },
  {
   "cell_type": "code",
   "execution_count": null,
   "metadata": {},
   "outputs": [],
   "source": []
  },
  {
   "cell_type": "code",
   "execution_count": 117,
   "metadata": {},
   "outputs": [
    {
     "name": "stdout",
     "output_type": "stream",
     "text": [
      "[0 1 2 3 4 5]\n"
     ]
    }
   ],
   "source": [
    "f_in = open('ur_centr_seq2000_1.txt', 'r')\n",
    "colors = []\n",
    "sequences = []\n",
    "for line in f_in:\n",
    "    colors.append(int(line.strip().split()[-1]))\n",
    "for record in SeqIO.parse('seq2000_1.fa', 'fasta'):\n",
    "    sequences.append(str(record.seq))\n",
    "#print(colors)\n",
    "print(np.unique(colors))\n",
    "f_in.close()"
   ]
  },
  {
   "cell_type": "code",
   "execution_count": 118,
   "metadata": {},
   "outputs": [
    {
     "name": "stdout",
     "output_type": "stream",
     "text": [
      "[[ 0 45 15 ... 79  8 79]\n",
      " [45  0 52 ... 81 49 82]\n",
      " [15 52  0 ... 85 17 83]\n",
      " ...\n",
      " [79 81 85 ...  0 84 44]\n",
      " [ 8 49 17 ... 84  0 81]\n",
      " [79 82 83 ... 44 81  0]]\n"
     ]
    }
   ],
   "source": [
    "dist_matrix = np.zeros((len(sequences), len(sequences)), dtype='int')\n",
    "for i in range(len(sequences)):\n",
    "    for j in range(i, len(sequences)):\n",
    "        dist_matrix[i, j] = edlib.align(sequences[i], sequences[j], mode='HW', task='path')['editDistance']\n",
    "dist_matrix = dist_matrix + dist_matrix.T\n",
    "print(dist_matrix)"
   ]
  },
  {
   "cell_type": "code",
   "execution_count": 119,
   "metadata": {},
   "outputs": [
    {
     "name": "stdout",
     "output_type": "stream",
     "text": [
      "288689\n"
     ]
    }
   ],
   "source": [
    "edges = np.zeros((len(sequences), len(sequences)), dtype='int')\n",
    "count = 0\n",
    "for i in range(len(sequences)):\n",
    "    for j in range(i, len(sequences)):\n",
    "        if 0 < dist_matrix[i, j] < 10:\n",
    "            edges[i, j] = dist_matrix[i, j]\n",
    "            count += 1\n",
    "print(count)"
   ]
  },
  {
   "cell_type": "code",
   "execution_count": 120,
   "metadata": {},
   "outputs": [],
   "source": [
    "f = open('graph_seq2000_1_ur.graphml', 'w')\n",
    "f.write('<?xml version=\"1.0\" encoding=\"UTF-8\"?>\\n')\n",
    "f.write('<graphml xmlns=\"http://graphml.graphdrawing.org/xmlns\" xmlns:xsi=\"http://www.w3.org/2001/XMLSchema-instance\"\\n')\n",
    "f.write('xsi:schemaLocation=\"http://graphml.graphdrawing.org/xmlns http://graphml.graphdrawing.org/xmlns/1.0/graphml.xsd\">\\n')\n",
    "f.write('<key id=\"d0\" for=\"node\" attr.name=\"color\" attr.type=\"string\">\\n')\n",
    "f.write('<default>yellow</default>\\n')\n",
    "f.write('</key>\\n')\n",
    "f.write('<key id=\"d1\" for=\"edge\" attr.name=\"weight\" attr.type=\"double\"/>\\n')\n",
    "f.write('<graph id=\"G\" edgedefault=\"undirected\">\\n')\n",
    "for i in range(len(colors)):\n",
    "    f.write(f'<node id=\"n{i}\">\\n')\n",
    "    f.write(f'<data key=\"d0\">{cluster_to_color(colors[i])}</data>\\n')\n",
    "    f.write('</node>\\n')\n",
    "count = 0\n",
    "for i in range(len(sequences)):\n",
    "    for j in range(i + 1, len(sequences)):\n",
    "        if edges[i, j] > 0:\n",
    "            f.write(f'<edge id=\"e{count}\" source=\"n{i}\" target=\"n{j}\">\\n')\n",
    "            f.write(f'<data key=\"d1\">{edges[i, j]}</data>\\n')\n",
    "            f.write(f'</edge>')\n",
    "            count += 1\n",
    "f.write('</graph>\\n')\n",
    "f.write('</graphml>')\n",
    "f.close()"
   ]
  },
  {
   "cell_type": "code",
   "execution_count": null,
   "metadata": {},
   "outputs": [],
   "source": []
  },
  {
   "cell_type": "code",
   "execution_count": 121,
   "metadata": {},
   "outputs": [
    {
     "name": "stdout",
     "output_type": "stream",
     "text": [
      "[0 1 2 3 4 5]\n"
     ]
    }
   ],
   "source": [
    "f_in = open('ur_centr_seq2000_2.txt', 'r')\n",
    "colors = []\n",
    "sequences = []\n",
    "for line in f_in:\n",
    "    colors.append(int(line.strip().split()[-1]))\n",
    "for record in SeqIO.parse('seq2000_2.fa', 'fasta'):\n",
    "    sequences.append(str(record.seq))\n",
    "#print(colors)\n",
    "print(np.unique(colors))\n",
    "f_in.close()"
   ]
  },
  {
   "cell_type": "code",
   "execution_count": 122,
   "metadata": {},
   "outputs": [
    {
     "name": "stdout",
     "output_type": "stream",
     "text": [
      "[[ 0 80 25 ... 53 16 80]\n",
      " [80  0 83 ... 81 85 10]\n",
      " [25 83  0 ... 56 18 82]\n",
      " ...\n",
      " [53 81 56 ...  0 48 82]\n",
      " [16 85 18 ... 48  0 84]\n",
      " [80 10 82 ... 82 84  0]]\n"
     ]
    }
   ],
   "source": [
    "dist_matrix = np.zeros((len(sequences), len(sequences)), dtype='int')\n",
    "for i in range(len(sequences)):\n",
    "    for j in range(i, len(sequences)):\n",
    "        dist_matrix[i, j] = edlib.align(sequences[i], sequences[j], mode='HW', task='path')['editDistance']\n",
    "dist_matrix = dist_matrix + dist_matrix.T\n",
    "print(dist_matrix)"
   ]
  },
  {
   "cell_type": "code",
   "execution_count": 123,
   "metadata": {},
   "outputs": [
    {
     "name": "stdout",
     "output_type": "stream",
     "text": [
      "263097\n"
     ]
    }
   ],
   "source": [
    "edges = np.zeros((len(sequences), len(sequences)), dtype='int')\n",
    "count = 0\n",
    "for i in range(len(sequences)):\n",
    "    for j in range(i, len(sequences)):\n",
    "        if 0 < dist_matrix[i, j] < 10:\n",
    "            edges[i, j] = dist_matrix[i, j]\n",
    "            count += 1\n",
    "print(count)"
   ]
  },
  {
   "cell_type": "code",
   "execution_count": 124,
   "metadata": {},
   "outputs": [],
   "source": [
    "f = open('graph_seq2000_2_ur.graphml', 'w')\n",
    "f.write('<?xml version=\"1.0\" encoding=\"UTF-8\"?>\\n')\n",
    "f.write('<graphml xmlns=\"http://graphml.graphdrawing.org/xmlns\" xmlns:xsi=\"http://www.w3.org/2001/XMLSchema-instance\"\\n')\n",
    "f.write('xsi:schemaLocation=\"http://graphml.graphdrawing.org/xmlns http://graphml.graphdrawing.org/xmlns/1.0/graphml.xsd\">\\n')\n",
    "f.write('<key id=\"d0\" for=\"node\" attr.name=\"color\" attr.type=\"string\">\\n')\n",
    "f.write('<default>yellow</default>\\n')\n",
    "f.write('</key>\\n')\n",
    "f.write('<key id=\"d1\" for=\"edge\" attr.name=\"weight\" attr.type=\"double\"/>\\n')\n",
    "f.write('<graph id=\"G\" edgedefault=\"undirected\">\\n')\n",
    "for i in range(len(colors)):\n",
    "    f.write(f'<node id=\"n{i}\">\\n')\n",
    "    f.write(f'<data key=\"d0\">{cluster_to_color(colors[i])}</data>\\n')\n",
    "    f.write('</node>\\n')\n",
    "count = 0\n",
    "for i in range(len(sequences)):\n",
    "    for j in range(i + 1, len(sequences)):\n",
    "        if edges[i, j] > 0:\n",
    "            f.write(f'<edge id=\"e{count}\" source=\"n{i}\" target=\"n{j}\">\\n')\n",
    "            f.write(f'<data key=\"d1\">{edges[i, j]}</data>\\n')\n",
    "            f.write(f'</edge>')\n",
    "            count += 1\n",
    "f.write('</graph>\\n')\n",
    "f.write('</graphml>')\n",
    "f.close()"
   ]
  },
  {
   "cell_type": "code",
   "execution_count": null,
   "metadata": {},
   "outputs": [],
   "source": []
  },
  {
   "cell_type": "code",
   "execution_count": 125,
   "metadata": {},
   "outputs": [
    {
     "name": "stdout",
     "output_type": "stream",
     "text": [
      "[0 1 2 3 4 5]\n"
     ]
    }
   ],
   "source": [
    "f_in = open('ur_centr_seq2000_3.txt', 'r')\n",
    "colors = []\n",
    "sequences = []\n",
    "for line in f_in:\n",
    "    colors.append(int(line.strip().split()[-1]))\n",
    "for record in SeqIO.parse('seq2000_3.fa', 'fasta'):\n",
    "    sequences.append(str(record.seq))\n",
    "#print(colors)\n",
    "print(np.unique(colors))\n",
    "f_in.close()"
   ]
  },
  {
   "cell_type": "code",
   "execution_count": 126,
   "metadata": {},
   "outputs": [
    {
     "name": "stdout",
     "output_type": "stream",
     "text": [
      "[[ 0  4 43 ... 44 20 81]\n",
      " [ 4  0 45 ... 46 22 82]\n",
      " [43 45  0 ... 12 53 82]\n",
      " ...\n",
      " [44 46 12 ...  0 55 80]\n",
      " [20 22 53 ... 55  0 82]\n",
      " [81 82 82 ... 80 82  0]]\n"
     ]
    }
   ],
   "source": [
    "dist_matrix = np.zeros((len(sequences), len(sequences)), dtype='int')\n",
    "for i in range(len(sequences)):\n",
    "    for j in range(i, len(sequences)):\n",
    "        dist_matrix[i, j] = edlib.align(sequences[i], sequences[j], mode='HW', task='path')['editDistance']\n",
    "dist_matrix = dist_matrix + dist_matrix.T\n",
    "print(dist_matrix)"
   ]
  },
  {
   "cell_type": "code",
   "execution_count": 127,
   "metadata": {},
   "outputs": [
    {
     "name": "stdout",
     "output_type": "stream",
     "text": [
      "295407\n"
     ]
    }
   ],
   "source": [
    "edges = np.zeros((len(sequences), len(sequences)), dtype='int')\n",
    "count = 0\n",
    "for i in range(len(sequences)):\n",
    "    for j in range(i, len(sequences)):\n",
    "        if 0 < dist_matrix[i, j] < 10:\n",
    "            edges[i, j] = dist_matrix[i, j]\n",
    "            count += 1\n",
    "print(count)"
   ]
  },
  {
   "cell_type": "code",
   "execution_count": 128,
   "metadata": {},
   "outputs": [],
   "source": [
    "f = open('graph_seq2000_3_ur.graphml', 'w')\n",
    "f.write('<?xml version=\"1.0\" encoding=\"UTF-8\"?>\\n')\n",
    "f.write('<graphml xmlns=\"http://graphml.graphdrawing.org/xmlns\" xmlns:xsi=\"http://www.w3.org/2001/XMLSchema-instance\"\\n')\n",
    "f.write('xsi:schemaLocation=\"http://graphml.graphdrawing.org/xmlns http://graphml.graphdrawing.org/xmlns/1.0/graphml.xsd\">\\n')\n",
    "f.write('<key id=\"d0\" for=\"node\" attr.name=\"color\" attr.type=\"string\">\\n')\n",
    "f.write('<default>yellow</default>\\n')\n",
    "f.write('</key>\\n')\n",
    "f.write('<key id=\"d1\" for=\"edge\" attr.name=\"weight\" attr.type=\"double\"/>\\n')\n",
    "f.write('<graph id=\"G\" edgedefault=\"undirected\">\\n')\n",
    "for i in range(len(colors)):\n",
    "    f.write(f'<node id=\"n{i}\">\\n')\n",
    "    f.write(f'<data key=\"d0\">{cluster_to_color(colors[i])}</data>\\n')\n",
    "    f.write('</node>\\n')\n",
    "count = 0\n",
    "for i in range(len(sequences)):\n",
    "    for j in range(i + 1, len(sequences)):\n",
    "        if edges[i, j] > 0:\n",
    "            f.write(f'<edge id=\"e{count}\" source=\"n{i}\" target=\"n{j}\">\\n')\n",
    "            f.write(f'<data key=\"d1\">{edges[i, j]}</data>\\n')\n",
    "            f.write(f'</edge>')\n",
    "            count += 1\n",
    "f.write('</graph>\\n')\n",
    "f.write('</graphml>')\n",
    "f.close()"
   ]
  },
  {
   "cell_type": "markdown",
   "metadata": {},
   "source": [
    "### Уральский новый"
   ]
  },
  {
   "cell_type": "code",
   "execution_count": 129,
   "metadata": {},
   "outputs": [
    {
     "name": "stdout",
     "output_type": "stream",
     "text": [
      "[-1  0  1  2  3  4  5]\n"
     ]
    }
   ],
   "source": [
    "f_in = open('ur_centr_10_seq1000_1.txt', 'r')\n",
    "colors = []\n",
    "sequences = []\n",
    "for line in f_in:\n",
    "    colors.append(int(line.strip().split()[-1]))\n",
    "for record in SeqIO.parse('seq1000_1.fa', 'fasta'):\n",
    "    sequences.append(str(record.seq))\n",
    "#print(colors)\n",
    "print(np.unique(colors))\n",
    "f_in.close()"
   ]
  },
  {
   "cell_type": "code",
   "execution_count": 130,
   "metadata": {},
   "outputs": [
    {
     "name": "stdout",
     "output_type": "stream",
     "text": [
      "[[ 0 15 42 ... 48 42 43]\n",
      " [15  0 50 ... 56 51 51]\n",
      " [42 50  0 ... 19  2  1]\n",
      " ...\n",
      " [48 56 19 ...  0 22 21]\n",
      " [42 51  2 ... 22  0  3]\n",
      " [43 51  1 ... 21  3  0]]\n"
     ]
    }
   ],
   "source": [
    "dist_matrix = np.zeros((len(sequences), len(sequences)), dtype='int')\n",
    "for i in range(len(sequences)):\n",
    "    for j in range(i, len(sequences)):\n",
    "        dist_matrix[i, j] = edlib.align(sequences[i], sequences[j], mode='HW', task='path')['editDistance']\n",
    "dist_matrix = dist_matrix + dist_matrix.T\n",
    "print(dist_matrix)"
   ]
  },
  {
   "cell_type": "code",
   "execution_count": 131,
   "metadata": {},
   "outputs": [
    {
     "name": "stdout",
     "output_type": "stream",
     "text": [
      "79860\n"
     ]
    }
   ],
   "source": [
    "edges = np.zeros((len(sequences), len(sequences)), dtype='int')\n",
    "count = 0\n",
    "for i in range(len(sequences)):\n",
    "    for j in range(i, len(sequences)):\n",
    "        if 0 < dist_matrix[i, j] < 10:\n",
    "            edges[i, j] = dist_matrix[i, j]\n",
    "            count += 1\n",
    "print(count)"
   ]
  },
  {
   "cell_type": "code",
   "execution_count": 132,
   "metadata": {},
   "outputs": [],
   "source": [
    "f = open('graph_seq1000_1_ur_new.graphml', 'w')\n",
    "f.write('<?xml version=\"1.0\" encoding=\"UTF-8\"?>\\n')\n",
    "f.write('<graphml xmlns=\"http://graphml.graphdrawing.org/xmlns\" xmlns:xsi=\"http://www.w3.org/2001/XMLSchema-instance\"\\n')\n",
    "f.write('xsi:schemaLocation=\"http://graphml.graphdrawing.org/xmlns http://graphml.graphdrawing.org/xmlns/1.0/graphml.xsd\">\\n')\n",
    "f.write('<key id=\"d0\" for=\"node\" attr.name=\"color\" attr.type=\"string\">\\n')\n",
    "f.write('<default>yellow</default>\\n')\n",
    "f.write('</key>\\n')\n",
    "f.write('<key id=\"d1\" for=\"edge\" attr.name=\"weight\" attr.type=\"double\"/>\\n')\n",
    "f.write('<graph id=\"G\" edgedefault=\"undirected\">\\n')\n",
    "for i in range(len(colors)):\n",
    "    f.write(f'<node id=\"n{i}\">\\n')\n",
    "    f.write(f'<data key=\"d0\">{cluster_to_color(colors[i])}</data>\\n')\n",
    "    f.write('</node>\\n')\n",
    "count = 0\n",
    "for i in range(len(sequences)):\n",
    "    for j in range(i + 1, len(sequences)):\n",
    "        if edges[i, j] > 0:\n",
    "            f.write(f'<edge id=\"e{count}\" source=\"n{i}\" target=\"n{j}\">\\n')\n",
    "            f.write(f'<data key=\"d1\">{edges[i, j]}</data>\\n')\n",
    "            f.write(f'</edge>')\n",
    "            count += 1\n",
    "f.write('</graph>\\n')\n",
    "f.write('</graphml>')\n",
    "f.close()"
   ]
  },
  {
   "cell_type": "code",
   "execution_count": null,
   "metadata": {},
   "outputs": [],
   "source": []
  },
  {
   "cell_type": "code",
   "execution_count": 133,
   "metadata": {},
   "outputs": [
    {
     "name": "stdout",
     "output_type": "stream",
     "text": [
      "[-1  0  1  2  3  4  5]\n"
     ]
    }
   ],
   "source": [
    "f_in = open('ur_centr_10_seq2000_1.txt', 'r')\n",
    "colors = []\n",
    "sequences = []\n",
    "for line in f_in:\n",
    "    colors.append(int(line.strip().split()[-1]))\n",
    "for record in SeqIO.parse('seq2000_1.fa', 'fasta'):\n",
    "    sequences.append(str(record.seq))\n",
    "#print(colors)\n",
    "print(np.unique(colors))\n",
    "f_in.close()"
   ]
  },
  {
   "cell_type": "code",
   "execution_count": 134,
   "metadata": {},
   "outputs": [
    {
     "name": "stdout",
     "output_type": "stream",
     "text": [
      "[[ 0 45 15 ... 79  8 79]\n",
      " [45  0 52 ... 81 49 82]\n",
      " [15 52  0 ... 85 17 83]\n",
      " ...\n",
      " [79 81 85 ...  0 84 44]\n",
      " [ 8 49 17 ... 84  0 81]\n",
      " [79 82 83 ... 44 81  0]]\n"
     ]
    }
   ],
   "source": [
    "dist_matrix = np.zeros((len(sequences), len(sequences)), dtype='int')\n",
    "for i in range(len(sequences)):\n",
    "    for j in range(i, len(sequences)):\n",
    "        dist_matrix[i, j] = edlib.align(sequences[i], sequences[j], mode='HW', task='path')['editDistance']\n",
    "dist_matrix = dist_matrix + dist_matrix.T\n",
    "print(dist_matrix)"
   ]
  },
  {
   "cell_type": "code",
   "execution_count": 135,
   "metadata": {},
   "outputs": [
    {
     "name": "stdout",
     "output_type": "stream",
     "text": [
      "288689\n"
     ]
    }
   ],
   "source": [
    "edges = np.zeros((len(sequences), len(sequences)), dtype='int')\n",
    "count = 0\n",
    "for i in range(len(sequences)):\n",
    "    for j in range(i, len(sequences)):\n",
    "        if 0 < dist_matrix[i, j] < 10:\n",
    "            edges[i, j] = dist_matrix[i, j]\n",
    "            count += 1\n",
    "print(count)"
   ]
  },
  {
   "cell_type": "code",
   "execution_count": 136,
   "metadata": {},
   "outputs": [],
   "source": [
    "f = open('graph_seq2000_1_ur_new.graphml', 'w')\n",
    "f.write('<?xml version=\"1.0\" encoding=\"UTF-8\"?>\\n')\n",
    "f.write('<graphml xmlns=\"http://graphml.graphdrawing.org/xmlns\" xmlns:xsi=\"http://www.w3.org/2001/XMLSchema-instance\"\\n')\n",
    "f.write('xsi:schemaLocation=\"http://graphml.graphdrawing.org/xmlns http://graphml.graphdrawing.org/xmlns/1.0/graphml.xsd\">\\n')\n",
    "f.write('<key id=\"d0\" for=\"node\" attr.name=\"color\" attr.type=\"string\">\\n')\n",
    "f.write('<default>yellow</default>\\n')\n",
    "f.write('</key>\\n')\n",
    "f.write('<key id=\"d1\" for=\"edge\" attr.name=\"weight\" attr.type=\"double\"/>\\n')\n",
    "f.write('<graph id=\"G\" edgedefault=\"undirected\">\\n')\n",
    "for i in range(len(colors)):\n",
    "    f.write(f'<node id=\"n{i}\">\\n')\n",
    "    f.write(f'<data key=\"d0\">{cluster_to_color(colors[i])}</data>\\n')\n",
    "    f.write('</node>\\n')\n",
    "count = 0\n",
    "for i in range(len(sequences)):\n",
    "    for j in range(i + 1, len(sequences)):\n",
    "        if edges[i, j] > 0:\n",
    "            f.write(f'<edge id=\"e{count}\" source=\"n{i}\" target=\"n{j}\">\\n')\n",
    "            f.write(f'<data key=\"d1\">{edges[i, j]}</data>\\n')\n",
    "            f.write(f'</edge>')\n",
    "            count += 1\n",
    "f.write('</graph>\\n')\n",
    "f.write('</graphml>')\n",
    "f.close()"
   ]
  },
  {
   "cell_type": "code",
   "execution_count": null,
   "metadata": {},
   "outputs": [],
   "source": []
  },
  {
   "cell_type": "code",
   "execution_count": 137,
   "metadata": {},
   "outputs": [
    {
     "name": "stdout",
     "output_type": "stream",
     "text": [
      "[-1  0  1  2  3  4  5]\n"
     ]
    }
   ],
   "source": [
    "f_in = open('ur_centr_10_seq2000_2.txt', 'r')\n",
    "colors = []\n",
    "sequences = []\n",
    "for line in f_in:\n",
    "    colors.append(int(line.strip().split()[-1]))\n",
    "for record in SeqIO.parse('seq2000_2.fa', 'fasta'):\n",
    "    sequences.append(str(record.seq))\n",
    "#print(colors)\n",
    "print(np.unique(colors))\n",
    "f_in.close()"
   ]
  },
  {
   "cell_type": "code",
   "execution_count": 138,
   "metadata": {},
   "outputs": [
    {
     "name": "stdout",
     "output_type": "stream",
     "text": [
      "[[ 0 80 25 ... 53 16 80]\n",
      " [80  0 83 ... 81 85 10]\n",
      " [25 83  0 ... 56 18 82]\n",
      " ...\n",
      " [53 81 56 ...  0 48 82]\n",
      " [16 85 18 ... 48  0 84]\n",
      " [80 10 82 ... 82 84  0]]\n"
     ]
    }
   ],
   "source": [
    "dist_matrix = np.zeros((len(sequences), len(sequences)), dtype='int')\n",
    "for i in range(len(sequences)):\n",
    "    for j in range(i, len(sequences)):\n",
    "        dist_matrix[i, j] = edlib.align(sequences[i], sequences[j], mode='HW', task='path')['editDistance']\n",
    "dist_matrix = dist_matrix + dist_matrix.T\n",
    "print(dist_matrix)"
   ]
  },
  {
   "cell_type": "code",
   "execution_count": 139,
   "metadata": {},
   "outputs": [
    {
     "name": "stdout",
     "output_type": "stream",
     "text": [
      "263097\n"
     ]
    }
   ],
   "source": [
    "edges = np.zeros((len(sequences), len(sequences)), dtype='int')\n",
    "count = 0\n",
    "for i in range(len(sequences)):\n",
    "    for j in range(i, len(sequences)):\n",
    "        if 0 < dist_matrix[i, j] < 10:\n",
    "            edges[i, j] = dist_matrix[i, j]\n",
    "            count += 1\n",
    "print(count)"
   ]
  },
  {
   "cell_type": "code",
   "execution_count": 140,
   "metadata": {},
   "outputs": [],
   "source": [
    "f = open('graph_seq2000_2_ur_new.graphml', 'w')\n",
    "f.write('<?xml version=\"1.0\" encoding=\"UTF-8\"?>\\n')\n",
    "f.write('<graphml xmlns=\"http://graphml.graphdrawing.org/xmlns\" xmlns:xsi=\"http://www.w3.org/2001/XMLSchema-instance\"\\n')\n",
    "f.write('xsi:schemaLocation=\"http://graphml.graphdrawing.org/xmlns http://graphml.graphdrawing.org/xmlns/1.0/graphml.xsd\">\\n')\n",
    "f.write('<key id=\"d0\" for=\"node\" attr.name=\"color\" attr.type=\"string\">\\n')\n",
    "f.write('<default>yellow</default>\\n')\n",
    "f.write('</key>\\n')\n",
    "f.write('<key id=\"d1\" for=\"edge\" attr.name=\"weight\" attr.type=\"double\"/>\\n')\n",
    "f.write('<graph id=\"G\" edgedefault=\"undirected\">\\n')\n",
    "for i in range(len(colors)):\n",
    "    f.write(f'<node id=\"n{i}\">\\n')\n",
    "    f.write(f'<data key=\"d0\">{cluster_to_color(colors[i])}</data>\\n')\n",
    "    f.write('</node>\\n')\n",
    "count = 0\n",
    "for i in range(len(sequences)):\n",
    "    for j in range(i + 1, len(sequences)):\n",
    "        if edges[i, j] > 0:\n",
    "            f.write(f'<edge id=\"e{count}\" source=\"n{i}\" target=\"n{j}\">\\n')\n",
    "            f.write(f'<data key=\"d1\">{edges[i, j]}</data>\\n')\n",
    "            f.write(f'</edge>')\n",
    "            count += 1\n",
    "f.write('</graph>\\n')\n",
    "f.write('</graphml>')\n",
    "f.close()"
   ]
  },
  {
   "cell_type": "code",
   "execution_count": null,
   "metadata": {},
   "outputs": [],
   "source": []
  },
  {
   "cell_type": "code",
   "execution_count": 141,
   "metadata": {},
   "outputs": [
    {
     "name": "stdout",
     "output_type": "stream",
     "text": [
      "[-1  0  1  2  3  4  5]\n"
     ]
    }
   ],
   "source": [
    "f_in = open('ur_centr_10_seq2000_3.txt', 'r')\n",
    "colors = []\n",
    "sequences = []\n",
    "for line in f_in:\n",
    "    colors.append(int(line.strip().split()[-1]))\n",
    "for record in SeqIO.parse('seq2000_3.fa', 'fasta'):\n",
    "    sequences.append(str(record.seq))\n",
    "#print(colors)\n",
    "print(np.unique(colors))\n",
    "f_in.close()"
   ]
  },
  {
   "cell_type": "code",
   "execution_count": 142,
   "metadata": {},
   "outputs": [
    {
     "name": "stdout",
     "output_type": "stream",
     "text": [
      "[[ 0  4 43 ... 44 20 81]\n",
      " [ 4  0 45 ... 46 22 82]\n",
      " [43 45  0 ... 12 53 82]\n",
      " ...\n",
      " [44 46 12 ...  0 55 80]\n",
      " [20 22 53 ... 55  0 82]\n",
      " [81 82 82 ... 80 82  0]]\n"
     ]
    }
   ],
   "source": [
    "dist_matrix = np.zeros((len(sequences), len(sequences)), dtype='int')\n",
    "for i in range(len(sequences)):\n",
    "    for j in range(i, len(sequences)):\n",
    "        dist_matrix[i, j] = edlib.align(sequences[i], sequences[j], mode='HW', task='path')['editDistance']\n",
    "dist_matrix = dist_matrix + dist_matrix.T\n",
    "print(dist_matrix)"
   ]
  },
  {
   "cell_type": "code",
   "execution_count": 143,
   "metadata": {},
   "outputs": [
    {
     "name": "stdout",
     "output_type": "stream",
     "text": [
      "295407\n"
     ]
    }
   ],
   "source": [
    "edges = np.zeros((len(sequences), len(sequences)), dtype='int')\n",
    "count = 0\n",
    "for i in range(len(sequences)):\n",
    "    for j in range(i, len(sequences)):\n",
    "        if 0 < dist_matrix[i, j] < 10:\n",
    "            edges[i, j] = dist_matrix[i, j]\n",
    "            count += 1\n",
    "print(count)"
   ]
  },
  {
   "cell_type": "code",
   "execution_count": 144,
   "metadata": {},
   "outputs": [],
   "source": [
    "f = open('graph_seq2000_3_ur_new.graphml', 'w')\n",
    "f.write('<?xml version=\"1.0\" encoding=\"UTF-8\"?>\\n')\n",
    "f.write('<graphml xmlns=\"http://graphml.graphdrawing.org/xmlns\" xmlns:xsi=\"http://www.w3.org/2001/XMLSchema-instance\"\\n')\n",
    "f.write('xsi:schemaLocation=\"http://graphml.graphdrawing.org/xmlns http://graphml.graphdrawing.org/xmlns/1.0/graphml.xsd\">\\n')\n",
    "f.write('<key id=\"d0\" for=\"node\" attr.name=\"color\" attr.type=\"string\">\\n')\n",
    "f.write('<default>yellow</default>\\n')\n",
    "f.write('</key>\\n')\n",
    "f.write('<key id=\"d1\" for=\"edge\" attr.name=\"weight\" attr.type=\"double\"/>\\n')\n",
    "f.write('<graph id=\"G\" edgedefault=\"undirected\">\\n')\n",
    "for i in range(len(colors)):\n",
    "    f.write(f'<node id=\"n{i}\">\\n')\n",
    "    f.write(f'<data key=\"d0\">{cluster_to_color(colors[i])}</data>\\n')\n",
    "    f.write('</node>\\n')\n",
    "count = 0\n",
    "for i in range(len(sequences)):\n",
    "    for j in range(i + 1, len(sequences)):\n",
    "        if edges[i, j] > 0:\n",
    "            f.write(f'<edge id=\"e{count}\" source=\"n{i}\" target=\"n{j}\">\\n')\n",
    "            f.write(f'<data key=\"d1\">{edges[i, j]}</data>\\n')\n",
    "            f.write(f'</edge>')\n",
    "            count += 1\n",
    "f.write('</graph>\\n')\n",
    "f.write('</graphml>')\n",
    "f.close()"
   ]
  },
  {
   "cell_type": "code",
   "execution_count": null,
   "metadata": {},
   "outputs": [],
   "source": []
  },
  {
   "cell_type": "code",
   "execution_count": null,
   "metadata": {},
   "outputs": [],
   "source": []
  }
 ],
 "metadata": {
  "kernelspec": {
   "display_name": "Python 3",
   "language": "python",
   "name": "python3"
  },
  "language_info": {
   "codemirror_mode": {
    "name": "ipython",
    "version": 3
   },
   "file_extension": ".py",
   "mimetype": "text/x-python",
   "name": "python",
   "nbconvert_exporter": "python",
   "pygments_lexer": "ipython3",
   "version": "3.7.4"
  }
 },
 "nbformat": 4,
 "nbformat_minor": 2
}
