{
 "cells": [
  {
   "cell_type": "code",
   "execution_count": 13,
   "metadata": {},
   "outputs": [],
   "source": [
    "import pandas as pd\n",
    "import numpy as np\n",
    "from Bio import SeqIO\n",
    "from Bio.SeqRecord import SeqRecord\n",
    "import edlib"
   ]
  },
  {
   "cell_type": "code",
   "execution_count": 14,
   "metadata": {},
   "outputs": [
    {
     "name": "stdout",
     "output_type": "stream",
     "text": [
      "[ 1  5 19]\n"
     ]
    }
   ],
   "source": [
    "colors = []\n",
    "sequences = []\n",
    "for record in SeqIO.parse('seq1000_1.fa', 'fasta'):\n",
    "    colors.append(int(record.id.split('_')[1][3:]))\n",
    "    sequences.append(str(record.seq))\n",
    "#print(colors)\n",
    "print(np.unique(colors))"
   ]
  },
  {
   "cell_type": "code",
   "execution_count": 15,
   "metadata": {},
   "outputs": [
    {
     "name": "stdout",
     "output_type": "stream",
     "text": [
      "[[ 0 15 42 ... 48 42 43]\n",
      " [15  0 50 ... 56 51 51]\n",
      " [42 50  0 ... 19  2  1]\n",
      " ...\n",
      " [48 56 19 ...  0 22 21]\n",
      " [42 51  2 ... 22  0  3]\n",
      " [43 51  1 ... 21  3  0]]\n"
     ]
    }
   ],
   "source": [
    "dist_matrix = np.zeros((len(sequences), len(sequences)), dtype='int')\n",
    "for i in range(len(sequences)):\n",
    "    for j in range(i, len(sequences)):\n",
    "        dist_matrix[i, j] = edlib.align(sequences[i], sequences[j], mode='HW', task='path')['editDistance']\n",
    "dist_matrix = dist_matrix + dist_matrix.T\n",
    "print(dist_matrix)"
   ]
  },
  {
   "cell_type": "code",
   "execution_count": 16,
   "metadata": {},
   "outputs": [
    {
     "name": "stdout",
     "output_type": "stream",
     "text": [
      "79860\n"
     ]
    }
   ],
   "source": [
    "edges = np.zeros((len(sequences), len(sequences)), dtype='float')\n",
    "count = 0\n",
    "for i in range(len(sequences)):\n",
    "    for j in range(i, len(sequences)):\n",
    "        if 0 < dist_matrix[i, j] < 10:\n",
    "            edges[i, j] = dist_matrix[i, j]\n",
    "            count += 1\n",
    "print(count)"
   ]
  },
  {
   "cell_type": "code",
   "execution_count": 17,
   "metadata": {},
   "outputs": [],
   "source": [
    "def chromosome_to_color(chromosome):\n",
    "    if chromosome == 1:\n",
    "        return 'blue'\n",
    "    elif chromosome == 5:\n",
    "        return 'green'\n",
    "    elif chromosome == 16:\n",
    "        return 'yellow'\n",
    "    else:\n",
    "        return 'red'"
   ]
  },
  {
   "cell_type": "code",
   "execution_count": 18,
   "metadata": {},
   "outputs": [],
   "source": [
    "f = open('graph_seq1000_1_chr.graphml', 'w')\n",
    "f.write('<?xml version=\"1.0\" encoding=\"UTF-8\"?>\\n')\n",
    "f.write('<graphml xmlns=\"http://graphml.graphdrawing.org/xmlns\" xmlns:xsi=\"http://www.w3.org/2001/XMLSchema-instance\"\\n')\n",
    "f.write('xsi:schemaLocation=\"http://graphml.graphdrawing.org/xmlns http://graphml.graphdrawing.org/xmlns/1.0/graphml.xsd\">\\n')\n",
    "f.write('<key id=\"d0\" for=\"node\" attr.name=\"color\" attr.type=\"string\">\\n')\n",
    "f.write('<default>yellow</default>\\n')\n",
    "f.write('</key>\\n')\n",
    "f.write('<key id=\"d1\" for=\"edge\" attr.name=\"weight\" attr.type=\"double\"/>\\n')\n",
    "f.write('<graph id=\"G\" edgedefault=\"undirected\">\\n')\n",
    "for i in range(len(colors)):\n",
    "    f.write(f'<node id=\"n{i}\">\\n')\n",
    "    f.write(f'<data key=\"d0\">{chromosome_to_color(colors[i])}</data>\\n')\n",
    "    f.write('</node>\\n')\n",
    "count = 0\n",
    "for i in range(len(sequences)):\n",
    "    for j in range(i + 1, len(sequences)):\n",
    "        if edges[i, j] > 0:\n",
    "            f.write(f'<edge id=\"e{count}\" source=\"n{i}\" target=\"n{j}\">\\n')\n",
    "            f.write(f'<data key=\"d1\">{edges[i, j]}</data>\\n')\n",
    "            f.write(f'</edge>')\n",
    "            count += 1\n",
    "#<edge id=\"e3\" source=\"n3\" target=\"n2\"/>\n",
    "#<edge id=\"e4\" source=\"n2\" target=\"n4\"/>\n",
    "#<edge id=\"e5\" source=\"n3\" target=\"n5\"/>\n",
    "#<edge id=\"e6\" source=\"n5\" target=\"n4\">\n",
    "f.write('</graph>\\n')\n",
    "f.write('</graphml>')\n",
    "f.close()"
   ]
  },
  {
   "cell_type": "code",
   "execution_count": null,
   "metadata": {},
   "outputs": [],
   "source": []
  },
  {
   "cell_type": "code",
   "execution_count": null,
   "metadata": {},
   "outputs": [],
   "source": []
  },
  {
   "cell_type": "code",
   "execution_count": null,
   "metadata": {},
   "outputs": [],
   "source": []
  },
  {
   "cell_type": "code",
   "execution_count": 19,
   "metadata": {},
   "outputs": [
    {
     "name": "stdout",
     "output_type": "stream",
     "text": [
      "[ 1  5 19]\n"
     ]
    }
   ],
   "source": [
    "colors = []\n",
    "sequences = []\n",
    "for record in SeqIO.parse('seq2000_1.fa', 'fasta'):\n",
    "    colors.append(int(record.id.split('_')[1][3:]))\n",
    "    sequences.append(str(record.seq))\n",
    "#print(colors)\n",
    "print(np.unique(colors))"
   ]
  },
  {
   "cell_type": "code",
   "execution_count": 20,
   "metadata": {},
   "outputs": [
    {
     "name": "stdout",
     "output_type": "stream",
     "text": [
      "[[ 0 45 15 ... 79  8 79]\n",
      " [45  0 52 ... 81 49 82]\n",
      " [15 52  0 ... 85 17 83]\n",
      " ...\n",
      " [79 81 85 ...  0 84 44]\n",
      " [ 8 49 17 ... 84  0 81]\n",
      " [79 82 83 ... 44 81  0]]\n"
     ]
    }
   ],
   "source": [
    "dist_matrix = np.zeros((len(sequences), len(sequences)), dtype='int')\n",
    "for i in range(len(sequences)):\n",
    "    for j in range(i, len(sequences)):\n",
    "        dist_matrix[i, j] = edlib.align(sequences[i], sequences[j], mode='HW', task='path')['editDistance']\n",
    "dist_matrix = dist_matrix + dist_matrix.T\n",
    "print(dist_matrix)"
   ]
  },
  {
   "cell_type": "code",
   "execution_count": 21,
   "metadata": {},
   "outputs": [
    {
     "name": "stdout",
     "output_type": "stream",
     "text": [
      "288689\n"
     ]
    }
   ],
   "source": [
    "edges = np.zeros((len(sequences), len(sequences)), dtype='float')\n",
    "count = 0\n",
    "for i in range(len(sequences)):\n",
    "    for j in range(i, len(sequences)):\n",
    "        if 0 < dist_matrix[i, j] < 10:\n",
    "            edges[i, j] = dist_matrix[i, j]\n",
    "            count += 1\n",
    "print(count)"
   ]
  },
  {
   "cell_type": "code",
   "execution_count": 22,
   "metadata": {},
   "outputs": [],
   "source": [
    "f = open('graph_seq2000_1_chr.graphml', 'w')\n",
    "f.write('<?xml version=\"1.0\" encoding=\"UTF-8\"?>\\n')\n",
    "f.write('<graphml xmlns=\"http://graphml.graphdrawing.org/xmlns\" xmlns:xsi=\"http://www.w3.org/2001/XMLSchema-instance\"\\n')\n",
    "f.write('xsi:schemaLocation=\"http://graphml.graphdrawing.org/xmlns http://graphml.graphdrawing.org/xmlns/1.0/graphml.xsd\">\\n')\n",
    "f.write('<key id=\"d0\" for=\"node\" attr.name=\"color\" attr.type=\"string\">\\n')\n",
    "f.write('<default>yellow</default>\\n')\n",
    "f.write('</key>\\n')\n",
    "f.write('<key id=\"d1\" for=\"edge\" attr.name=\"weight\" attr.type=\"double\"/>\\n')\n",
    "f.write('<graph id=\"G\" edgedefault=\"undirected\">\\n')\n",
    "for i in range(len(colors)):\n",
    "    f.write(f'<node id=\"n{i}\">\\n')\n",
    "    f.write(f'<data key=\"d0\">{chromosome_to_color(colors[i])}</data>\\n')\n",
    "    f.write('</node>\\n')\n",
    "count = 0\n",
    "for i in range(len(sequences)):\n",
    "    for j in range(i + 1, len(sequences)):\n",
    "        if edges[i, j] > 0:\n",
    "            f.write(f'<edge id=\"e{count}\" source=\"n{i}\" target=\"n{j}\">\\n')\n",
    "            f.write(f'<data key=\"d1\">{edges[i, j]}</data>\\n')\n",
    "            f.write(f'</edge>')\n",
    "            count += 1\n",
    "#<edge id=\"e3\" source=\"n3\" target=\"n2\"/>\n",
    "#<edge id=\"e4\" source=\"n2\" target=\"n4\"/>\n",
    "#<edge id=\"e5\" source=\"n3\" target=\"n5\"/>\n",
    "#<edge id=\"e6\" source=\"n5\" target=\"n4\">\n",
    "f.write('</graph>\\n')\n",
    "f.write('</graphml>')\n",
    "f.close()"
   ]
  },
  {
   "cell_type": "code",
   "execution_count": null,
   "metadata": {},
   "outputs": [],
   "source": []
  },
  {
   "cell_type": "code",
   "execution_count": null,
   "metadata": {},
   "outputs": [],
   "source": []
  },
  {
   "cell_type": "code",
   "execution_count": null,
   "metadata": {},
   "outputs": [],
   "source": []
  },
  {
   "cell_type": "code",
   "execution_count": 23,
   "metadata": {},
   "outputs": [
    {
     "name": "stdout",
     "output_type": "stream",
     "text": [
      "[ 1  5 19]\n"
     ]
    }
   ],
   "source": [
    "colors = []\n",
    "sequences = []\n",
    "for record in SeqIO.parse('seq2000_2.fa', 'fasta'):\n",
    "    colors.append(int(record.id.split('_')[1][3:]))\n",
    "    sequences.append(str(record.seq))\n",
    "#print(colors)\n",
    "print(np.unique(colors))"
   ]
  },
  {
   "cell_type": "code",
   "execution_count": 24,
   "metadata": {},
   "outputs": [
    {
     "name": "stdout",
     "output_type": "stream",
     "text": [
      "[[ 0. 80. 25. ... 53. 16. 80.]\n",
      " [80.  0. 83. ... 81. 85. 10.]\n",
      " [25. 83.  0. ... 56. 18. 82.]\n",
      " ...\n",
      " [53. 81. 56. ...  0. 48. 82.]\n",
      " [16. 85. 18. ... 48.  0. 84.]\n",
      " [80. 10. 82. ... 82. 84.  0.]]\n"
     ]
    }
   ],
   "source": [
    "dist_matrix = np.zeros((len(sequences), len(sequences)), dtype='float')\n",
    "for i in range(len(sequences)):\n",
    "    for j in range(i, len(sequences)):\n",
    "        dist_matrix[i, j] = edlib.align(sequences[i], sequences[j], mode='HW', task='path')['editDistance']\n",
    "dist_matrix = dist_matrix + dist_matrix.T\n",
    "print(dist_matrix)"
   ]
  },
  {
   "cell_type": "code",
   "execution_count": 25,
   "metadata": {},
   "outputs": [
    {
     "name": "stdout",
     "output_type": "stream",
     "text": [
      "263097\n"
     ]
    }
   ],
   "source": [
    "edges = np.zeros((len(sequences), len(sequences)), dtype='float')\n",
    "count = 0\n",
    "for i in range(len(sequences)):\n",
    "    for j in range(i, len(sequences)):\n",
    "        if 0 < dist_matrix[i, j] < 10:\n",
    "            edges[i, j] = dist_matrix[i, j]\n",
    "            count += 1\n",
    "print(count)"
   ]
  },
  {
   "cell_type": "code",
   "execution_count": 26,
   "metadata": {},
   "outputs": [],
   "source": [
    "f = open('graph_seq2000_2_chr.graphml', 'w')\n",
    "f.write('<?xml version=\"1.0\" encoding=\"UTF-8\"?>\\n')\n",
    "f.write('<graphml xmlns=\"http://graphml.graphdrawing.org/xmlns\" xmlns:xsi=\"http://www.w3.org/2001/XMLSchema-instance\"\\n')\n",
    "f.write('xsi:schemaLocation=\"http://graphml.graphdrawing.org/xmlns http://graphml.graphdrawing.org/xmlns/1.0/graphml.xsd\">\\n')\n",
    "f.write('<key id=\"d0\" for=\"node\" attr.name=\"color\" attr.type=\"string\">\\n')\n",
    "f.write('<default>yellow</default>\\n')\n",
    "f.write('</key>\\n')\n",
    "f.write('<key id=\"d1\" for=\"edge\" attr.name=\"weight\" attr.type=\"double\"/>\\n')\n",
    "f.write('<graph id=\"G\" edgedefault=\"undirected\">\\n')\n",
    "for i in range(len(colors)):\n",
    "    f.write(f'<node id=\"n{i}\">\\n')\n",
    "    f.write(f'<data key=\"d0\">{chromosome_to_color(colors[i])}</data>\\n')\n",
    "    f.write('</node>\\n')\n",
    "count = 0\n",
    "for i in range(len(sequences)):\n",
    "    for j in range(i + 1, len(sequences)):\n",
    "        if edges[i, j] > 0:\n",
    "            f.write(f'<edge id=\"e{count}\" source=\"n{i}\" target=\"n{j}\">\\n')\n",
    "            f.write(f'<data key=\"d1\">{edges[i, j]}</data>\\n')\n",
    "            f.write(f'</edge>')\n",
    "            count += 1\n",
    "#<edge id=\"e3\" source=\"n3\" target=\"n2\"/>\n",
    "#<edge id=\"e4\" source=\"n2\" target=\"n4\"/>\n",
    "#<edge id=\"e5\" source=\"n3\" target=\"n5\"/>\n",
    "#<edge id=\"e6\" source=\"n5\" target=\"n4\">\n",
    "f.write('</graph>\\n')\n",
    "f.write('</graphml>')\n",
    "f.close()"
   ]
  },
  {
   "cell_type": "code",
   "execution_count": null,
   "metadata": {},
   "outputs": [],
   "source": []
  },
  {
   "cell_type": "code",
   "execution_count": null,
   "metadata": {},
   "outputs": [],
   "source": []
  },
  {
   "cell_type": "code",
   "execution_count": null,
   "metadata": {},
   "outputs": [],
   "source": []
  },
  {
   "cell_type": "code",
   "execution_count": null,
   "metadata": {},
   "outputs": [],
   "source": []
  },
  {
   "cell_type": "code",
   "execution_count": 27,
   "metadata": {},
   "outputs": [
    {
     "name": "stdout",
     "output_type": "stream",
     "text": [
      "[ 1  5 19]\n"
     ]
    }
   ],
   "source": [
    "colors = []\n",
    "sequences = []\n",
    "for record in SeqIO.parse('seq2000_3.fa', 'fasta'):\n",
    "    colors.append(int(record.id.split('_')[1][3:]))\n",
    "    sequences.append(str(record.seq))\n",
    "#print(colors)\n",
    "print(np.unique(colors))"
   ]
  },
  {
   "cell_type": "code",
   "execution_count": 28,
   "metadata": {},
   "outputs": [
    {
     "name": "stdout",
     "output_type": "stream",
     "text": [
      "[[ 0.  4. 43. ... 44. 20. 81.]\n",
      " [ 4.  0. 45. ... 46. 22. 82.]\n",
      " [43. 45.  0. ... 12. 53. 82.]\n",
      " ...\n",
      " [44. 46. 12. ...  0. 55. 80.]\n",
      " [20. 22. 53. ... 55.  0. 82.]\n",
      " [81. 82. 82. ... 80. 82.  0.]]\n"
     ]
    }
   ],
   "source": [
    "dist_matrix = np.zeros((len(sequences), len(sequences)), dtype='float')\n",
    "for i in range(len(sequences)):\n",
    "    for j in range(i, len(sequences)):\n",
    "        dist_matrix[i, j] = edlib.align(sequences[i], sequences[j], mode='HW', task='path')['editDistance']\n",
    "dist_matrix = dist_matrix + dist_matrix.T\n",
    "print(dist_matrix)"
   ]
  },
  {
   "cell_type": "code",
   "execution_count": 29,
   "metadata": {},
   "outputs": [
    {
     "name": "stdout",
     "output_type": "stream",
     "text": [
      "295407\n"
     ]
    }
   ],
   "source": [
    "edges = np.zeros((len(sequences), len(sequences)), dtype='float')\n",
    "count = 0\n",
    "for i in range(len(sequences)):\n",
    "    for j in range(i, len(sequences)):\n",
    "        if 0 < dist_matrix[i, j] < 10:\n",
    "            edges[i, j] = dist_matrix[i, j]\n",
    "            count += 1\n",
    "print(count)"
   ]
  },
  {
   "cell_type": "code",
   "execution_count": 30,
   "metadata": {},
   "outputs": [],
   "source": [
    "f = open('graph_seq2000_3_chr.graphml', 'w')\n",
    "f.write('<?xml version=\"1.0\" encoding=\"UTF-8\"?>\\n')\n",
    "f.write('<graphml xmlns=\"http://graphml.graphdrawing.org/xmlns\" xmlns:xsi=\"http://www.w3.org/2001/XMLSchema-instance\"\\n')\n",
    "f.write('xsi:schemaLocation=\"http://graphml.graphdrawing.org/xmlns http://graphml.graphdrawing.org/xmlns/1.0/graphml.xsd\">\\n')\n",
    "f.write('<key id=\"d0\" for=\"node\" attr.name=\"color\" attr.type=\"string\">\\n')\n",
    "f.write('<default>yellow</default>\\n')\n",
    "f.write('</key>\\n')\n",
    "f.write('<key id=\"d1\" for=\"edge\" attr.name=\"weight\" attr.type=\"double\"/>\\n')\n",
    "f.write('<graph id=\"G\" edgedefault=\"undirected\">\\n')\n",
    "for i in range(len(colors)):\n",
    "    f.write(f'<node id=\"n{i}\">\\n')\n",
    "    f.write(f'<data key=\"d0\">{chromosome_to_color(colors[i])}</data>\\n')\n",
    "    f.write('</node>\\n')\n",
    "count = 0\n",
    "for i in range(len(sequences)):\n",
    "    for j in range(i + 1, len(sequences)):\n",
    "        if edges[i, j] > 0:\n",
    "            f.write(f'<edge id=\"e{count}\" source=\"n{i}\" target=\"n{j}\">\\n')\n",
    "            f.write(f'<data key=\"d1\">{edges[i, j]}</data>\\n')\n",
    "            f.write(f'</edge>')\n",
    "            count += 1\n",
    "#<edge id=\"e3\" source=\"n3\" target=\"n2\"/>\n",
    "#<edge id=\"e4\" source=\"n2\" target=\"n4\"/>\n",
    "#<edge id=\"e5\" source=\"n3\" target=\"n5\"/>\n",
    "#<edge id=\"e6\" source=\"n5\" target=\"n4\">\n",
    "f.write('</graph>\\n')\n",
    "f.write('</graphml>')\n",
    "f.close()"
   ]
  },
  {
   "cell_type": "code",
   "execution_count": null,
   "metadata": {},
   "outputs": [],
   "source": []
  }
 ],
 "metadata": {
  "kernelspec": {
   "display_name": "Python 3",
   "language": "python",
   "name": "python3"
  },
  "language_info": {
   "codemirror_mode": {
    "name": "ipython",
    "version": 3
   },
   "file_extension": ".py",
   "mimetype": "text/x-python",
   "name": "python",
   "nbconvert_exporter": "python",
   "pygments_lexer": "ipython3",
   "version": "3.7.4"
  }
 },
 "nbformat": 4,
 "nbformat_minor": 2
}
