{
 "cells": [
  {
   "cell_type": "code",
   "execution_count": 25,
   "metadata": {},
   "outputs": [],
   "source": [
    "import edlib\n",
    "from Bio import SeqIO\n",
    "from Bio.SeqRecord import SeqRecord\n",
    "import numpy as np\n",
    "import pandas as pd"
   ]
  },
  {
   "cell_type": "code",
   "execution_count": 7,
   "metadata": {},
   "outputs": [],
   "source": [
    "sequences = []\n",
    "for record in SeqIO.parse('/Users/olga/Downloads/sampled100.fa', 'fasta'):\n",
    "    sequences.append(str(record.seq))\n",
    "#print(sequences)"
   ]
  },
  {
   "cell_type": "code",
   "execution_count": 15,
   "metadata": {},
   "outputs": [
    {
     "name": "stdout",
     "output_type": "stream",
     "text": [
      "[[ 0 18 14 ...  0 15 12]\n",
      " [18  0 21 ... 18 13 10]\n",
      " [14 21  0 ... 14 15 15]\n",
      " ...\n",
      " [ 0 18 14 ...  0 15 12]\n",
      " [15 13 15 ... 15  0  7]\n",
      " [12 10 15 ... 12  7  0]]\n"
     ]
    }
   ],
   "source": [
    "dist_matrix = np.zeros((len(sequences), len(sequences)), dtype='int')\n",
    "for i in range(len(sequences)):\n",
    "    for j in range(i, len(sequences)):\n",
    "        dist_matrix[i, j] = edlib.align(sequences[i], sequences[j], mode='HW', task='path')['editDistance']\n",
    "dist_matrix = dist_matrix + dist_matrix.T\n",
    "print(dist_matrix)"
   ]
  },
  {
   "cell_type": "code",
   "execution_count": 22,
   "metadata": {},
   "outputs": [
    {
     "name": "stdout",
     "output_type": "stream",
     "text": [
      "445\n"
     ]
    }
   ],
   "source": [
    "edges = np.zeros((len(sequences), len(sequences)), dtype='int')\n",
    "count = 0\n",
    "for i in range(len(sequences)):\n",
    "    for j in range(i, len(sequences)):\n",
    "        if 0 < dist_matrix[i, j] < 5:\n",
    "            edges[i, j] = 1\n",
    "            count += 1\n",
    "print(count)"
   ]
  },
  {
   "cell_type": "code",
   "execution_count": 27,
   "metadata": {},
   "outputs": [],
   "source": [
    "df = pd.DataFrame(data=edges)\n",
    "df.to_csv('edges100.csv')"
   ]
  },
  {
   "cell_type": "code",
   "execution_count": null,
   "metadata": {},
   "outputs": [],
   "source": []
  },
  {
   "cell_type": "code",
   "execution_count": 30,
   "metadata": {},
   "outputs": [],
   "source": [
    "sequences = []\n",
    "for record in SeqIO.parse('/Users/olga/Downloads/sampled1000.fa', 'fasta'):\n",
    "    sequences.append(str(record.seq))\n",
    "#print(sequences)"
   ]
  },
  {
   "cell_type": "code",
   "execution_count": 31,
   "metadata": {},
   "outputs": [
    {
     "name": "stdout",
     "output_type": "stream",
     "text": [
      "[[0 8 7 ... 7 9 8]\n",
      " [8 0 7 ... 7 8 6]\n",
      " [7 7 0 ... 6 7 7]\n",
      " ...\n",
      " [7 7 6 ... 0 8 7]\n",
      " [9 8 7 ... 8 0 8]\n",
      " [8 6 7 ... 7 8 0]]\n"
     ]
    }
   ],
   "source": [
    "dist_matrix = np.zeros((len(sequences), len(sequences)), dtype='int')\n",
    "for i in range(len(sequences)):\n",
    "    for j in range(i, len(sequences)):\n",
    "        dist_matrix[i, j] = edlib.align(sequences[i], sequences[j], mode='HW', task='path')['editDistance']\n",
    "dist_matrix = dist_matrix + dist_matrix.T\n",
    "print(dist_matrix)"
   ]
  },
  {
   "cell_type": "code",
   "execution_count": 32,
   "metadata": {},
   "outputs": [
    {
     "name": "stdout",
     "output_type": "stream",
     "text": [
      "46725\n"
     ]
    }
   ],
   "source": [
    "edges = np.zeros((len(sequences), len(sequences)), dtype='int')\n",
    "count = 0\n",
    "for i in range(len(sequences)):\n",
    "    for j in range(i, len(sequences)):\n",
    "        if 0 < dist_matrix[i, j] < 5:\n",
    "            edges[i, j] = 1\n",
    "            count += 1\n",
    "print(count)"
   ]
  },
  {
   "cell_type": "code",
   "execution_count": 33,
   "metadata": {},
   "outputs": [],
   "source": [
    "df = pd.DataFrame(data=edges)\n",
    "df.to_csv('edges1000.csv')"
   ]
  },
  {
   "cell_type": "code",
   "execution_count": null,
   "metadata": {},
   "outputs": [],
   "source": []
  },
  {
   "cell_type": "code",
   "execution_count": 34,
   "metadata": {},
   "outputs": [],
   "source": [
    "sequences = []\n",
    "for record in SeqIO.parse('/Users/olga/Downloads/sampled1000.fa', 'fasta'):\n",
    "    sequences.append(str(record.seq))\n",
    "#print(sequences)"
   ]
  },
  {
   "cell_type": "code",
   "execution_count": 35,
   "metadata": {},
   "outputs": [
    {
     "name": "stdout",
     "output_type": "stream",
     "text": [
      "[[0 8 7 ... 7 9 8]\n",
      " [8 0 7 ... 7 8 6]\n",
      " [7 7 0 ... 6 7 7]\n",
      " ...\n",
      " [7 7 6 ... 0 8 7]\n",
      " [9 8 7 ... 8 0 8]\n",
      " [8 6 7 ... 7 8 0]]\n"
     ]
    }
   ],
   "source": [
    "dist_matrix = np.zeros((len(sequences), len(sequences)), dtype='int')\n",
    "for i in range(len(sequences)):\n",
    "    for j in range(i, len(sequences)):\n",
    "        dist_matrix[i, j] = edlib.align(sequences[i], sequences[j], mode='HW', task='path')['editDistance']\n",
    "dist_matrix = dist_matrix + dist_matrix.T\n",
    "print(dist_matrix)"
   ]
  },
  {
   "cell_type": "code",
   "execution_count": 37,
   "metadata": {},
   "outputs": [
    {
     "name": "stdout",
     "output_type": "stream",
     "text": [
      "448464\n"
     ]
    }
   ],
   "source": [
    "edges = np.zeros((len(sequences), len(sequences)), dtype='int')\n",
    "count = 0\n",
    "for i in range(len(sequences)):\n",
    "    for j in range(i, len(sequences)):\n",
    "        if dist_matrix[i, j] >= 5:\n",
    "            edges[i, j] = 0\n",
    "            count += 1\n",
    "print(count)"
   ]
  },
  {
   "cell_type": "code",
   "execution_count": 38,
   "metadata": {},
   "outputs": [],
   "source": [
    "df = pd.DataFrame(data=edges)\n",
    "df.to_csv('edges1000weighted.csv')"
   ]
  },
  {
   "cell_type": "code",
   "execution_count": null,
   "metadata": {},
   "outputs": [],
   "source": []
  },
  {
   "cell_type": "code",
   "execution_count": null,
   "metadata": {},
   "outputs": [],
   "source": []
  }
 ],
 "metadata": {
  "kernelspec": {
   "display_name": "Python 3",
   "language": "python",
   "name": "python3"
  },
  "language_info": {
   "codemirror_mode": {
    "name": "ipython",
    "version": 3
   },
   "file_extension": ".py",
   "mimetype": "text/x-python",
   "name": "python",
   "nbconvert_exporter": "python",
   "pygments_lexer": "ipython3",
   "version": "3.7.4"
  }
 },
 "nbformat": 4,
 "nbformat_minor": 2
}
